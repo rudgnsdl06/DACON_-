{
 "cells": [
  {
   "cell_type": "code",
   "execution_count": 3,
   "metadata": {},
   "outputs": [
    {
     "ename": "ModuleNotFoundError",
     "evalue": "No module named 'torchvision'",
     "output_type": "error",
     "traceback": [
      "\u001b[1;31m---------------------------------------------------------------------------\u001b[0m",
      "\u001b[1;31mModuleNotFoundError\u001b[0m                       Traceback (most recent call last)",
      "\u001b[1;32m<ipython-input-3-ad14b778638e>\u001b[0m in \u001b[0;36m<module>\u001b[1;34m\u001b[0m\n\u001b[0;32m      7\u001b[0m \u001b[1;32mimport\u001b[0m \u001b[0mtorch\u001b[0m\u001b[1;33m.\u001b[0m\u001b[0mnn\u001b[0m \u001b[1;32mas\u001b[0m \u001b[0mnn\u001b[0m\u001b[1;33m\u001b[0m\u001b[1;33m\u001b[0m\u001b[0m\n\u001b[0;32m      8\u001b[0m \u001b[1;32mimport\u001b[0m \u001b[0mtorch\u001b[0m\u001b[1;33m.\u001b[0m\u001b[0mnn\u001b[0m\u001b[1;33m.\u001b[0m\u001b[0mfunctional\u001b[0m \u001b[1;32mas\u001b[0m \u001b[0mF\u001b[0m\u001b[1;33m\u001b[0m\u001b[1;33m\u001b[0m\u001b[0m\n\u001b[1;32m----> 9\u001b[1;33m \u001b[1;32mimport\u001b[0m \u001b[0mtorchvision\u001b[0m\u001b[1;33m\u001b[0m\u001b[1;33m\u001b[0m\u001b[0m\n\u001b[0m\u001b[0;32m     10\u001b[0m \u001b[1;32mimport\u001b[0m \u001b[0mtorchvision\u001b[0m\u001b[1;33m.\u001b[0m\u001b[0mtransforms\u001b[0m \u001b[1;32mas\u001b[0m \u001b[0mtransforms\u001b[0m\u001b[1;33m\u001b[0m\u001b[1;33m\u001b[0m\u001b[0m\n\u001b[0;32m     11\u001b[0m \u001b[1;32mimport\u001b[0m \u001b[0mmatplotlib\u001b[0m\u001b[1;33m.\u001b[0m\u001b[0mpyplot\u001b[0m \u001b[1;32mas\u001b[0m \u001b[0mplt\u001b[0m\u001b[1;33m\u001b[0m\u001b[1;33m\u001b[0m\u001b[0m\n",
      "\u001b[1;31mModuleNotFoundError\u001b[0m: No module named 'torchvision'"
     ]
    }
   ],
   "source": [
    "from sklearn.ensemble import RandomForestRegressor\n",
    "import copy\n",
    "from torch.utils.data import Dataset\n",
    "import numpy as np\n",
    "import pandas as pd\n",
    "import torch\n",
    "import torch.nn as nn\n",
    "import torch.nn.functional as F\n",
    "import torchvision\n",
    "import torchvision.transforms as transforms\n",
    "import matplotlib.pyplot as plt\n",
    "import random\n",
    "import time\n",
    "import datetime, calendar\n",
    "import scipy.stats as stats\n",
    "import statsmodels.api as sm\n",
    "from gensim.models.word2vec import Word2Vec\n",
    "from konlpy.tag import Mecab\n",
    "import nltk\n",
    "import re\n",
    "from collections import Counter\n",
    "from gensim.models import Word2Vec\n",
    "from gensim.models import KeyedVectors\n",
    "from konlpy.tag import Mecab\n",
    "from tensorflow.keras import layers, models\n",
    "%matplotlib inline\n",
    "\n",
    "plt.rc('font', family='Malgun Gothic')\n",
    "plt.rcParams['axes.unicode_minus'] = False"
   ]
  },
  {
   "cell_type": "code",
   "execution_count": 4,
   "metadata": {},
   "outputs": [
    {
     "data": {
      "text/html": [
       "<div>\n",
       "<style scoped>\n",
       "    .dataframe tbody tr th:only-of-type {\n",
       "        vertical-align: middle;\n",
       "    }\n",
       "\n",
       "    .dataframe tbody tr th {\n",
       "        vertical-align: top;\n",
       "    }\n",
       "\n",
       "    .dataframe thead th {\n",
       "        text-align: right;\n",
       "    }\n",
       "</style>\n",
       "<table border=\"1\" class=\"dataframe\">\n",
       "  <thead>\n",
       "    <tr style=\"text-align: right;\">\n",
       "      <th></th>\n",
       "      <th>요일</th>\n",
       "      <th>본사정원수</th>\n",
       "      <th>본사휴가자수</th>\n",
       "      <th>본사출장자수</th>\n",
       "      <th>본사시간외근무명령서승인건수</th>\n",
       "      <th>현본사소속재택근무자수</th>\n",
       "      <th>중식계</th>\n",
       "      <th>석식계</th>\n",
       "      <th>평균기온(℃)</th>\n",
       "      <th>최고기온(℃)</th>\n",
       "      <th>확진자수</th>\n",
       "      <th>강수량(mm)</th>\n",
       "      <th>습도(%)</th>\n",
       "    </tr>\n",
       "  </thead>\n",
       "  <tbody>\n",
       "    <tr>\n",
       "      <th>2016-02-01</th>\n",
       "      <td>월</td>\n",
       "      <td>2601.0</td>\n",
       "      <td>50.0</td>\n",
       "      <td>150.0</td>\n",
       "      <td>238.0</td>\n",
       "      <td>0.0</td>\n",
       "      <td>1039.0</td>\n",
       "      <td>331.0</td>\n",
       "      <td>-0.6</td>\n",
       "      <td>5.0</td>\n",
       "      <td>0.0</td>\n",
       "      <td>0.0</td>\n",
       "      <td>44.1</td>\n",
       "    </tr>\n",
       "    <tr>\n",
       "      <th>2016-02-02</th>\n",
       "      <td>화</td>\n",
       "      <td>2601.0</td>\n",
       "      <td>50.0</td>\n",
       "      <td>173.0</td>\n",
       "      <td>319.0</td>\n",
       "      <td>0.0</td>\n",
       "      <td>867.0</td>\n",
       "      <td>560.0</td>\n",
       "      <td>-2.3</td>\n",
       "      <td>6.2</td>\n",
       "      <td>0.0</td>\n",
       "      <td>0.0</td>\n",
       "      <td>47.2</td>\n",
       "    </tr>\n",
       "    <tr>\n",
       "      <th>2016-02-03</th>\n",
       "      <td>수</td>\n",
       "      <td>2601.0</td>\n",
       "      <td>56.0</td>\n",
       "      <td>180.0</td>\n",
       "      <td>111.0</td>\n",
       "      <td>0.0</td>\n",
       "      <td>1017.0</td>\n",
       "      <td>573.0</td>\n",
       "      <td>-1.7</td>\n",
       "      <td>7.7</td>\n",
       "      <td>0.0</td>\n",
       "      <td>0.0</td>\n",
       "      <td>56.2</td>\n",
       "    </tr>\n",
       "    <tr>\n",
       "      <th>2016-02-04</th>\n",
       "      <td>목</td>\n",
       "      <td>2601.0</td>\n",
       "      <td>104.0</td>\n",
       "      <td>220.0</td>\n",
       "      <td>355.0</td>\n",
       "      <td>0.0</td>\n",
       "      <td>978.0</td>\n",
       "      <td>525.0</td>\n",
       "      <td>-0.2</td>\n",
       "      <td>7.7</td>\n",
       "      <td>0.0</td>\n",
       "      <td>0.0</td>\n",
       "      <td>55.3</td>\n",
       "    </tr>\n",
       "    <tr>\n",
       "      <th>2016-02-05</th>\n",
       "      <td>금</td>\n",
       "      <td>2601.0</td>\n",
       "      <td>278.0</td>\n",
       "      <td>181.0</td>\n",
       "      <td>34.0</td>\n",
       "      <td>0.0</td>\n",
       "      <td>925.0</td>\n",
       "      <td>330.0</td>\n",
       "      <td>1.3</td>\n",
       "      <td>9.6</td>\n",
       "      <td>0.0</td>\n",
       "      <td>0.0</td>\n",
       "      <td>42.7</td>\n",
       "    </tr>\n",
       "  </tbody>\n",
       "</table>\n",
       "</div>"
      ],
      "text/plain": [
       "           요일   본사정원수  본사휴가자수  본사출장자수  본사시간외근무명령서승인건수  현본사소속재택근무자수     중식계  \\\n",
       "2016-02-01  월  2601.0    50.0   150.0           238.0          0.0  1039.0   \n",
       "2016-02-02  화  2601.0    50.0   173.0           319.0          0.0   867.0   \n",
       "2016-02-03  수  2601.0    56.0   180.0           111.0          0.0  1017.0   \n",
       "2016-02-04  목  2601.0   104.0   220.0           355.0          0.0   978.0   \n",
       "2016-02-05  금  2601.0   278.0   181.0            34.0          0.0   925.0   \n",
       "\n",
       "              석식계  평균기온(℃)  최고기온(℃)  확진자수  강수량(mm)  습도(%)  \n",
       "2016-02-01  331.0     -0.6      5.0   0.0      0.0   44.1  \n",
       "2016-02-02  560.0     -2.3      6.2   0.0      0.0   47.2  \n",
       "2016-02-03  573.0     -1.7      7.7   0.0      0.0   56.2  \n",
       "2016-02-04  525.0     -0.2      7.7   0.0      0.0   55.3  \n",
       "2016-02-05  330.0      1.3      9.6   0.0      0.0   42.7  "
      ]
     },
     "execution_count": 4,
     "metadata": {},
     "output_type": "execute_result"
    }
   ],
   "source": [
    "train_data = pd.read_csv('train.csv')\n",
    "train_data.index = pd.to_datetime(train_data['일자'])\n",
    "lunch_menu = train_data['중식메뉴']\n",
    "del train_data['조식메뉴'], train_data['중식메뉴'], train_data['석식메뉴'], train_data['일자']\n",
    "\n",
    "\n",
    "cases = pd.read_csv('일일코로나확진자.csv')\n",
    "cases = cases[(cases['Entity'] == 'South Korea')].iloc[:, [2, 3]].reset_index(drop=True)\n",
    "cases.index = pd.to_datetime(cases['Day'])\n",
    "del cases['Day']\n",
    "cases.columns = ['확진자수']\n",
    "cases = cases[cases.index < '2021-04-10']\n",
    "\n",
    "\n",
    "temp = pd.read_csv('진주시_기온정보.csv', encoding='euc-kr')\n",
    "temp.index = pd.to_datetime(temp['날짜'])\n",
    "del temp['날짜'], temp['지점'], temp['최저기온(℃)']\n",
    "\n",
    "hum = pd.read_csv('진주시강수량.csv', encoding='euc-kr')\n",
    "hum.index = pd.to_datetime(hum['날짜'])\n",
    "del hum['날짜'], hum['지점']\n",
    "hum.fillna(0, inplace=True)\n",
    "\n",
    "\n",
    "heat_idx = pd.read_csv('진주시_열지수_정보.csv', encoding='euc-kr')\n",
    "heat_idx['일자'] = heat_idx['일자'].apply(lambda row: str(row)[:4] + '-' + str(row)[4:6] + '-' + str(row)[-2:])\n",
    "heat_idx.index = pd.to_datetime(heat_idx['일자'])\n",
    "heat_idx = heat_idx.loc[:, ['습도(%)']]\n",
    "\n",
    "train_data = pd.concat([train_data, temp, cases, hum, heat_idx], axis=1)\n",
    "train_data = train_data[~train_data['본사정원수'].isnull()].fillna(0.)\n",
    "train_data.head()"
   ]
  },
  {
   "cell_type": "code",
   "execution_count": 5,
   "metadata": {},
   "outputs": [],
   "source": [
    "def week_of_month(dt):\n",
    "\n",
    "    first_day = dt.replace(day=1)\n",
    "\n",
    "    dom = dt.day\n",
    "    adjusted_dom = dom + first_day.weekday()\n",
    "\n",
    "    return str(int(np.ceil(adjusted_dom/7.0)))\n",
    "\n",
    "\n",
    "def MunhwaDay(row):\n",
    "    if row['요일'] == '수' and row['석식계'] == 0 and int(row['주차'][0]) >= 4 :\n",
    "        return 1\n",
    "    else:\n",
    "        return 0\n",
    "    \n",
    "def LastWedInMonth(year, month, date):\n",
    "\n",
    "    daysInMonth = calendar.monthrange(year, month)[1]   \n",
    "    dt = datetime.date(year, month, daysInMonth)\n",
    "\n",
    "    offset = 3 - dt.isoweekday()\n",
    "    if offset > 0: offset -= 7                         \n",
    "    dt += datetime.timedelta(offset)                   \n",
    "\n",
    "    if dt == date:\n",
    "        return 1\n",
    "    else:\n",
    "        return 0\n",
    "    \n",
    "train_data['개월'] = [f'{date.month}월' for date in train_data.index]\n",
    "train_data['주차'] = [f'{week_of_month(date)}주차' for date in train_data.index]\n",
    "train_data['문화day'] = train_data.apply(lambda row : MunhwaDay(row), axis=1)\n",
    "\n",
    "test_data = pd.read_csv('test.csv')\n",
    "test_data.index = pd.to_datetime(test_data['일자'])\n",
    "del test_data['조식메뉴'], test_data['중식메뉴'], test_data['석식메뉴'], test_data['일자']\n",
    "test_data = pd.concat([test_data, temp, cases, hum, heat_idx], axis=1)\n",
    "test_data = test_data[~test_data['본사정원수'].isnull()].fillna(0.)\n",
    "test_data['개월'] = [f'{date.month}월' for date in test_data.index]\n",
    "test_data['주차'] = [f'{week_of_month(date)}주차' for date in test_data.index]\n",
    "#test_data['문화day'] = [LastWedInMonth(date.year, date.month, date) for date in test_data.index]\n",
    "test_data['문화day'] = [0 for i in range(len(test_data))]\n",
    "whole_df = pd.concat([train_data, test_data], axis=0)"
   ]
  },
  {
   "cell_type": "markdown",
   "metadata": {},
   "source": [
    "# Feature Simplification"
   ]
  },
  {
   "cell_type": "code",
   "execution_count": 6,
   "metadata": {},
   "outputs": [],
   "source": [
    "def TempClass(row):\n",
    "    if row >= 30:\n",
    "        return 'temp30'\n",
    "    elif row >= 20:\n",
    "        return 'temp20'\n",
    "    elif row >= 10:\n",
    "        return 'temp10'\n",
    "    elif row >= 0:\n",
    "        return 'temp0'\n",
    "    elif row >= -10:\n",
    "        return 'temp-10'\n",
    "    else:\n",
    "        return 'temp-20'\n",
    "    \n",
    "def HumidClass(row):\n",
    "    if row >= 70:\n",
    "        return 'Humid High'\n",
    "    elif row >= 30:\n",
    "        return 'Humid Middle'\n",
    "    else:\n",
    "        return 'Humid Low'\n",
    "    "
   ]
  },
  {
   "cell_type": "code",
   "execution_count": 7,
   "metadata": {},
   "outputs": [
    {
     "data": {
      "text/html": [
       "<div>\n",
       "<style scoped>\n",
       "    .dataframe tbody tr th:only-of-type {\n",
       "        vertical-align: middle;\n",
       "    }\n",
       "\n",
       "    .dataframe tbody tr th {\n",
       "        vertical-align: top;\n",
       "    }\n",
       "\n",
       "    .dataframe thead th {\n",
       "        text-align: right;\n",
       "    }\n",
       "</style>\n",
       "<table border=\"1\" class=\"dataframe\">\n",
       "  <thead>\n",
       "    <tr style=\"text-align: right;\">\n",
       "      <th></th>\n",
       "      <th>요일</th>\n",
       "      <th>확진자수</th>\n",
       "      <th>강수량(mm)</th>\n",
       "      <th>개월</th>\n",
       "      <th>주차</th>\n",
       "      <th>문화day</th>\n",
       "      <th>본사출근자수</th>\n",
       "      <th>중식 참여율</th>\n",
       "      <th>석식 참여율</th>\n",
       "      <th>시간외근무율</th>\n",
       "      <th>평균기온</th>\n",
       "      <th>최고기온</th>\n",
       "      <th>습도</th>\n",
       "    </tr>\n",
       "  </thead>\n",
       "  <tbody>\n",
       "    <tr>\n",
       "      <th>2016-02-01</th>\n",
       "      <td>월</td>\n",
       "      <td>0.0</td>\n",
       "      <td>0.0</td>\n",
       "      <td>2월</td>\n",
       "      <td>1주차</td>\n",
       "      <td>0</td>\n",
       "      <td>2401.0</td>\n",
       "      <td>0.432736</td>\n",
       "      <td>0.137859</td>\n",
       "      <td>0.099125</td>\n",
       "      <td>temp-10</td>\n",
       "      <td>temp0</td>\n",
       "      <td>Humid Middle</td>\n",
       "    </tr>\n",
       "    <tr>\n",
       "      <th>2016-02-02</th>\n",
       "      <td>화</td>\n",
       "      <td>0.0</td>\n",
       "      <td>0.0</td>\n",
       "      <td>2월</td>\n",
       "      <td>1주차</td>\n",
       "      <td>0</td>\n",
       "      <td>2378.0</td>\n",
       "      <td>0.364592</td>\n",
       "      <td>0.235492</td>\n",
       "      <td>0.134146</td>\n",
       "      <td>temp-10</td>\n",
       "      <td>temp0</td>\n",
       "      <td>Humid Middle</td>\n",
       "    </tr>\n",
       "    <tr>\n",
       "      <th>2016-02-03</th>\n",
       "      <td>수</td>\n",
       "      <td>0.0</td>\n",
       "      <td>0.0</td>\n",
       "      <td>2월</td>\n",
       "      <td>1주차</td>\n",
       "      <td>0</td>\n",
       "      <td>2365.0</td>\n",
       "      <td>0.430021</td>\n",
       "      <td>0.242283</td>\n",
       "      <td>0.046934</td>\n",
       "      <td>temp-10</td>\n",
       "      <td>temp0</td>\n",
       "      <td>Humid Middle</td>\n",
       "    </tr>\n",
       "    <tr>\n",
       "      <th>2016-02-04</th>\n",
       "      <td>목</td>\n",
       "      <td>0.0</td>\n",
       "      <td>0.0</td>\n",
       "      <td>2월</td>\n",
       "      <td>1주차</td>\n",
       "      <td>0</td>\n",
       "      <td>2277.0</td>\n",
       "      <td>0.429513</td>\n",
       "      <td>0.230567</td>\n",
       "      <td>0.155907</td>\n",
       "      <td>temp-10</td>\n",
       "      <td>temp0</td>\n",
       "      <td>Humid Middle</td>\n",
       "    </tr>\n",
       "    <tr>\n",
       "      <th>2016-02-05</th>\n",
       "      <td>금</td>\n",
       "      <td>0.0</td>\n",
       "      <td>0.0</td>\n",
       "      <td>2월</td>\n",
       "      <td>1주차</td>\n",
       "      <td>0</td>\n",
       "      <td>2142.0</td>\n",
       "      <td>0.431839</td>\n",
       "      <td>0.154062</td>\n",
       "      <td>0.015873</td>\n",
       "      <td>temp0</td>\n",
       "      <td>temp0</td>\n",
       "      <td>Humid Middle</td>\n",
       "    </tr>\n",
       "    <tr>\n",
       "      <th>...</th>\n",
       "      <td>...</td>\n",
       "      <td>...</td>\n",
       "      <td>...</td>\n",
       "      <td>...</td>\n",
       "      <td>...</td>\n",
       "      <td>...</td>\n",
       "      <td>...</td>\n",
       "      <td>...</td>\n",
       "      <td>...</td>\n",
       "      <td>...</td>\n",
       "      <td>...</td>\n",
       "      <td>...</td>\n",
       "      <td>...</td>\n",
       "    </tr>\n",
       "    <tr>\n",
       "      <th>2021-04-05</th>\n",
       "      <td>월</td>\n",
       "      <td>478.0</td>\n",
       "      <td>0.0</td>\n",
       "      <td>4월</td>\n",
       "      <td>2주차</td>\n",
       "      <td>0</td>\n",
       "      <td>2343.0</td>\n",
       "      <td>NaN</td>\n",
       "      <td>NaN</td>\n",
       "      <td>0.300469</td>\n",
       "      <td>temp10</td>\n",
       "      <td>temp10</td>\n",
       "      <td>Humid Middle</td>\n",
       "    </tr>\n",
       "    <tr>\n",
       "      <th>2021-04-06</th>\n",
       "      <td>화</td>\n",
       "      <td>668.0</td>\n",
       "      <td>0.0</td>\n",
       "      <td>4월</td>\n",
       "      <td>2주차</td>\n",
       "      <td>0</td>\n",
       "      <td>2363.0</td>\n",
       "      <td>NaN</td>\n",
       "      <td>NaN</td>\n",
       "      <td>0.269149</td>\n",
       "      <td>temp10</td>\n",
       "      <td>temp20</td>\n",
       "      <td>Humid Middle</td>\n",
       "    </tr>\n",
       "    <tr>\n",
       "      <th>2021-04-07</th>\n",
       "      <td>수</td>\n",
       "      <td>700.0</td>\n",
       "      <td>0.0</td>\n",
       "      <td>4월</td>\n",
       "      <td>2주차</td>\n",
       "      <td>0</td>\n",
       "      <td>2329.0</td>\n",
       "      <td>NaN</td>\n",
       "      <td>NaN</td>\n",
       "      <td>0.000429</td>\n",
       "      <td>temp10</td>\n",
       "      <td>temp20</td>\n",
       "      <td>Humid Middle</td>\n",
       "    </tr>\n",
       "    <tr>\n",
       "      <th>2021-04-08</th>\n",
       "      <td>목</td>\n",
       "      <td>671.0</td>\n",
       "      <td>0.0</td>\n",
       "      <td>4월</td>\n",
       "      <td>2주차</td>\n",
       "      <td>0</td>\n",
       "      <td>2306.0</td>\n",
       "      <td>NaN</td>\n",
       "      <td>NaN</td>\n",
       "      <td>0.220729</td>\n",
       "      <td>temp10</td>\n",
       "      <td>temp20</td>\n",
       "      <td>Humid Middle</td>\n",
       "    </tr>\n",
       "    <tr>\n",
       "      <th>2021-04-09</th>\n",
       "      <td>금</td>\n",
       "      <td>676.0</td>\n",
       "      <td>0.0</td>\n",
       "      <td>4월</td>\n",
       "      <td>2주차</td>\n",
       "      <td>0</td>\n",
       "      <td>2217.0</td>\n",
       "      <td>NaN</td>\n",
       "      <td>NaN</td>\n",
       "      <td>0.000000</td>\n",
       "      <td>temp10</td>\n",
       "      <td>temp10</td>\n",
       "      <td>Humid Middle</td>\n",
       "    </tr>\n",
       "  </tbody>\n",
       "</table>\n",
       "<p>1255 rows × 13 columns</p>\n",
       "</div>"
      ],
      "text/plain": [
       "           요일   확진자수  강수량(mm)  개월   주차  문화day  본사출근자수    중식 참여율    석식 참여율  \\\n",
       "2016-02-01  월    0.0      0.0  2월  1주차      0  2401.0  0.432736  0.137859   \n",
       "2016-02-02  화    0.0      0.0  2월  1주차      0  2378.0  0.364592  0.235492   \n",
       "2016-02-03  수    0.0      0.0  2월  1주차      0  2365.0  0.430021  0.242283   \n",
       "2016-02-04  목    0.0      0.0  2월  1주차      0  2277.0  0.429513  0.230567   \n",
       "2016-02-05  금    0.0      0.0  2월  1주차      0  2142.0  0.431839  0.154062   \n",
       "...        ..    ...      ...  ..  ...    ...     ...       ...       ...   \n",
       "2021-04-05  월  478.0      0.0  4월  2주차      0  2343.0       NaN       NaN   \n",
       "2021-04-06  화  668.0      0.0  4월  2주차      0  2363.0       NaN       NaN   \n",
       "2021-04-07  수  700.0      0.0  4월  2주차      0  2329.0       NaN       NaN   \n",
       "2021-04-08  목  671.0      0.0  4월  2주차      0  2306.0       NaN       NaN   \n",
       "2021-04-09  금  676.0      0.0  4월  2주차      0  2217.0       NaN       NaN   \n",
       "\n",
       "              시간외근무율     평균기온    최고기온            습도  \n",
       "2016-02-01  0.099125  temp-10   temp0  Humid Middle  \n",
       "2016-02-02  0.134146  temp-10   temp0  Humid Middle  \n",
       "2016-02-03  0.046934  temp-10   temp0  Humid Middle  \n",
       "2016-02-04  0.155907  temp-10   temp0  Humid Middle  \n",
       "2016-02-05  0.015873    temp0   temp0  Humid Middle  \n",
       "...              ...      ...     ...           ...  \n",
       "2021-04-05  0.300469   temp10  temp10  Humid Middle  \n",
       "2021-04-06  0.269149   temp10  temp20  Humid Middle  \n",
       "2021-04-07  0.000429   temp10  temp20  Humid Middle  \n",
       "2021-04-08  0.220729   temp10  temp20  Humid Middle  \n",
       "2021-04-09  0.000000   temp10  temp10  Humid Middle  \n",
       "\n",
       "[1255 rows x 13 columns]"
      ]
     },
     "execution_count": 7,
     "metadata": {},
     "output_type": "execute_result"
    }
   ],
   "source": [
    "whole_df['본사출근자수'] = whole_df['본사정원수'] - whole_df['본사휴가자수'] - whole_df['본사출장자수'] - whole_df['현본사소속재택근무자수']\n",
    "whole_df['중식 참여율'] = whole_df['중식계'] / whole_df['본사출근자수']\n",
    "whole_df['석식 참여율'] = whole_df['석식계'] / whole_df['본사출근자수']\n",
    "whole_df['시간외근무율'] = whole_df['본사시간외근무명령서승인건수'] / whole_df['본사출근자수']\n",
    "whole_df['평균기온'] = whole_df['평균기온(℃)'].apply(TempClass)\n",
    "whole_df['최고기온'] = whole_df['최고기온(℃)'].apply(TempClass)\n",
    "whole_df['습도'] = whole_df['습도(%)'].apply(HumidClass)\n",
    "del whole_df['본사정원수'], whole_df['본사휴가자수'], whole_df['본사출장자수'], whole_df['현본사소속재택근무자수']\n",
    "del whole_df['중식계'], whole_df['석식계'], whole_df['본사시간외근무명령서승인건수']\n",
    "del whole_df['평균기온(℃)'], whole_df['최고기온(℃)'], whole_df['습도(%)']\n",
    "whole_df"
   ]
  },
  {
   "cell_type": "code",
   "execution_count": 8,
   "metadata": {
    "scrolled": true
   },
   "outputs": [
    {
     "data": {
      "text/html": [
       "<div>\n",
       "<style scoped>\n",
       "    .dataframe tbody tr th:only-of-type {\n",
       "        vertical-align: middle;\n",
       "    }\n",
       "\n",
       "    .dataframe tbody tr th {\n",
       "        vertical-align: top;\n",
       "    }\n",
       "\n",
       "    .dataframe thead th {\n",
       "        text-align: right;\n",
       "    }\n",
       "</style>\n",
       "<table border=\"1\" class=\"dataframe\">\n",
       "  <thead>\n",
       "    <tr style=\"text-align: right;\">\n",
       "      <th></th>\n",
       "      <th>요일</th>\n",
       "      <th>확진자수</th>\n",
       "      <th>강수량(mm)</th>\n",
       "      <th>개월</th>\n",
       "      <th>주차</th>\n",
       "      <th>문화day</th>\n",
       "      <th>본사출근자수</th>\n",
       "      <th>중식 참여율</th>\n",
       "      <th>석식 참여율</th>\n",
       "      <th>시간외근무율</th>\n",
       "      <th>평균기온</th>\n",
       "      <th>최고기온</th>\n",
       "      <th>습도</th>\n",
       "    </tr>\n",
       "  </thead>\n",
       "  <tbody>\n",
       "    <tr>\n",
       "      <th>2016-12-22</th>\n",
       "      <td>목</td>\n",
       "      <td>0.0</td>\n",
       "      <td>11.0</td>\n",
       "      <td>12월</td>\n",
       "      <td>4주차</td>\n",
       "      <td>0</td>\n",
       "      <td>2345.0</td>\n",
       "      <td>0.223454</td>\n",
       "      <td>0.090832</td>\n",
       "      <td>0.013646</td>\n",
       "      <td>temp10</td>\n",
       "      <td>temp10</td>\n",
       "      <td>Humid Middle</td>\n",
       "    </tr>\n",
       "    <tr>\n",
       "      <th>2017-01-26</th>\n",
       "      <td>목</td>\n",
       "      <td>0.0</td>\n",
       "      <td>0.0</td>\n",
       "      <td>1월</td>\n",
       "      <td>5주차</td>\n",
       "      <td>0</td>\n",
       "      <td>2211.0</td>\n",
       "      <td>0.381728</td>\n",
       "      <td>0.066486</td>\n",
       "      <td>0.012664</td>\n",
       "      <td>temp-10</td>\n",
       "      <td>temp0</td>\n",
       "      <td>Humid Middle</td>\n",
       "    </tr>\n",
       "    <tr>\n",
       "      <th>2017-12-26</th>\n",
       "      <td>화</td>\n",
       "      <td>0.0</td>\n",
       "      <td>0.0</td>\n",
       "      <td>12월</td>\n",
       "      <td>5주차</td>\n",
       "      <td>0</td>\n",
       "      <td>2171.0</td>\n",
       "      <td>0.421465</td>\n",
       "      <td>0.081069</td>\n",
       "      <td>0.028558</td>\n",
       "      <td>temp0</td>\n",
       "      <td>temp0</td>\n",
       "      <td>Humid Middle</td>\n",
       "    </tr>\n",
       "    <tr>\n",
       "      <th>2018-12-24</th>\n",
       "      <td>월</td>\n",
       "      <td>0.0</td>\n",
       "      <td>0.0</td>\n",
       "      <td>12월</td>\n",
       "      <td>5주차</td>\n",
       "      <td>0</td>\n",
       "      <td>1793.0</td>\n",
       "      <td>0.165086</td>\n",
       "      <td>0.058003</td>\n",
       "      <td>0.014501</td>\n",
       "      <td>temp0</td>\n",
       "      <td>temp0</td>\n",
       "      <td>Humid Middle</td>\n",
       "    </tr>\n",
       "    <tr>\n",
       "      <th>2018-12-31</th>\n",
       "      <td>월</td>\n",
       "      <td>0.0</td>\n",
       "      <td>0.0</td>\n",
       "      <td>12월</td>\n",
       "      <td>6주차</td>\n",
       "      <td>0</td>\n",
       "      <td>1629.0</td>\n",
       "      <td>0.203806</td>\n",
       "      <td>0.082873</td>\n",
       "      <td>0.017188</td>\n",
       "      <td>temp-10</td>\n",
       "      <td>temp0</td>\n",
       "      <td>Humid Middle</td>\n",
       "    </tr>\n",
       "    <tr>\n",
       "      <th>2019-02-01</th>\n",
       "      <td>금</td>\n",
       "      <td>0.0</td>\n",
       "      <td>0.0</td>\n",
       "      <td>2월</td>\n",
       "      <td>1주차</td>\n",
       "      <td>0</td>\n",
       "      <td>2343.0</td>\n",
       "      <td>0.343150</td>\n",
       "      <td>0.072983</td>\n",
       "      <td>0.000854</td>\n",
       "      <td>temp-10</td>\n",
       "      <td>temp0</td>\n",
       "      <td>Humid Middle</td>\n",
       "    </tr>\n",
       "    <tr>\n",
       "      <th>2019-09-11</th>\n",
       "      <td>수</td>\n",
       "      <td>0.0</td>\n",
       "      <td>1.8</td>\n",
       "      <td>9월</td>\n",
       "      <td>3주차</td>\n",
       "      <td>0</td>\n",
       "      <td>2550.0</td>\n",
       "      <td>0.359216</td>\n",
       "      <td>0.048235</td>\n",
       "      <td>0.000000</td>\n",
       "      <td>temp20</td>\n",
       "      <td>temp30</td>\n",
       "      <td>Humid High</td>\n",
       "    </tr>\n",
       "    <tr>\n",
       "      <th>2019-12-23</th>\n",
       "      <td>월</td>\n",
       "      <td>0.0</td>\n",
       "      <td>0.0</td>\n",
       "      <td>12월</td>\n",
       "      <td>5주차</td>\n",
       "      <td>0</td>\n",
       "      <td>2540.0</td>\n",
       "      <td>0.291732</td>\n",
       "      <td>0.048819</td>\n",
       "      <td>0.051575</td>\n",
       "      <td>temp0</td>\n",
       "      <td>temp10</td>\n",
       "      <td>Humid High</td>\n",
       "    </tr>\n",
       "    <tr>\n",
       "      <th>2019-12-24</th>\n",
       "      <td>화</td>\n",
       "      <td>0.0</td>\n",
       "      <td>0.0</td>\n",
       "      <td>12월</td>\n",
       "      <td>5주차</td>\n",
       "      <td>0</td>\n",
       "      <td>2417.0</td>\n",
       "      <td>0.191146</td>\n",
       "      <td>0.091436</td>\n",
       "      <td>0.021514</td>\n",
       "      <td>temp0</td>\n",
       "      <td>temp10</td>\n",
       "      <td>Humid High</td>\n",
       "    </tr>\n",
       "    <tr>\n",
       "      <th>2019-12-26</th>\n",
       "      <td>목</td>\n",
       "      <td>0.0</td>\n",
       "      <td>1.2</td>\n",
       "      <td>12월</td>\n",
       "      <td>5주차</td>\n",
       "      <td>0</td>\n",
       "      <td>2324.0</td>\n",
       "      <td>0.255594</td>\n",
       "      <td>0.087349</td>\n",
       "      <td>0.064974</td>\n",
       "      <td>temp0</td>\n",
       "      <td>temp0</td>\n",
       "      <td>Humid High</td>\n",
       "    </tr>\n",
       "    <tr>\n",
       "      <th>2019-12-30</th>\n",
       "      <td>월</td>\n",
       "      <td>0.0</td>\n",
       "      <td>0.6</td>\n",
       "      <td>12월</td>\n",
       "      <td>6주차</td>\n",
       "      <td>0</td>\n",
       "      <td>2356.0</td>\n",
       "      <td>0.276740</td>\n",
       "      <td>0.056027</td>\n",
       "      <td>0.041596</td>\n",
       "      <td>temp0</td>\n",
       "      <td>temp10</td>\n",
       "      <td>Humid High</td>\n",
       "    </tr>\n",
       "    <tr>\n",
       "      <th>2020-01-23</th>\n",
       "      <td>목</td>\n",
       "      <td>0.0</td>\n",
       "      <td>7.9</td>\n",
       "      <td>1월</td>\n",
       "      <td>4주차</td>\n",
       "      <td>0</td>\n",
       "      <td>2199.0</td>\n",
       "      <td>0.311505</td>\n",
       "      <td>0.053206</td>\n",
       "      <td>0.017281</td>\n",
       "      <td>temp0</td>\n",
       "      <td>temp10</td>\n",
       "      <td>Humid High</td>\n",
       "    </tr>\n",
       "    <tr>\n",
       "      <th>2020-04-29</th>\n",
       "      <td>수</td>\n",
       "      <td>4.0</td>\n",
       "      <td>0.0</td>\n",
       "      <td>4월</td>\n",
       "      <td>5주차</td>\n",
       "      <td>0</td>\n",
       "      <td>2095.0</td>\n",
       "      <td>0.324582</td>\n",
       "      <td>0.091647</td>\n",
       "      <td>0.000000</td>\n",
       "      <td>temp10</td>\n",
       "      <td>temp20</td>\n",
       "      <td>Humid Middle</td>\n",
       "    </tr>\n",
       "    <tr>\n",
       "      <th>2020-05-04</th>\n",
       "      <td>월</td>\n",
       "      <td>3.0</td>\n",
       "      <td>0.0</td>\n",
       "      <td>5월</td>\n",
       "      <td>2주차</td>\n",
       "      <td>0</td>\n",
       "      <td>1543.0</td>\n",
       "      <td>0.326636</td>\n",
       "      <td>0.079715</td>\n",
       "      <td>0.058976</td>\n",
       "      <td>temp20</td>\n",
       "      <td>temp20</td>\n",
       "      <td>Humid High</td>\n",
       "    </tr>\n",
       "    <tr>\n",
       "      <th>2020-09-25</th>\n",
       "      <td>금</td>\n",
       "      <td>61.0</td>\n",
       "      <td>0.0</td>\n",
       "      <td>9월</td>\n",
       "      <td>4주차</td>\n",
       "      <td>0</td>\n",
       "      <td>2343.0</td>\n",
       "      <td>0.230474</td>\n",
       "      <td>0.098165</td>\n",
       "      <td>0.000427</td>\n",
       "      <td>temp10</td>\n",
       "      <td>temp20</td>\n",
       "      <td>Humid High</td>\n",
       "    </tr>\n",
       "    <tr>\n",
       "      <th>2020-09-28</th>\n",
       "      <td>월</td>\n",
       "      <td>38.0</td>\n",
       "      <td>0.0</td>\n",
       "      <td>9월</td>\n",
       "      <td>5주차</td>\n",
       "      <td>0</td>\n",
       "      <td>1817.0</td>\n",
       "      <td>0.197028</td>\n",
       "      <td>0.090809</td>\n",
       "      <td>0.044579</td>\n",
       "      <td>temp10</td>\n",
       "      <td>temp20</td>\n",
       "      <td>Humid High</td>\n",
       "    </tr>\n",
       "    <tr>\n",
       "      <th>2020-11-13</th>\n",
       "      <td>금</td>\n",
       "      <td>205.0</td>\n",
       "      <td>0.0</td>\n",
       "      <td>11월</td>\n",
       "      <td>3주차</td>\n",
       "      <td>0</td>\n",
       "      <td>2296.0</td>\n",
       "      <td>0.230401</td>\n",
       "      <td>0.098432</td>\n",
       "      <td>0.000000</td>\n",
       "      <td>temp0</td>\n",
       "      <td>temp20</td>\n",
       "      <td>Humid High</td>\n",
       "    </tr>\n",
       "    <tr>\n",
       "      <th>2020-11-20</th>\n",
       "      <td>금</td>\n",
       "      <td>386.0</td>\n",
       "      <td>0.0</td>\n",
       "      <td>11월</td>\n",
       "      <td>4주차</td>\n",
       "      <td>0</td>\n",
       "      <td>2239.0</td>\n",
       "      <td>0.333631</td>\n",
       "      <td>0.098258</td>\n",
       "      <td>0.000000</td>\n",
       "      <td>temp0</td>\n",
       "      <td>temp10</td>\n",
       "      <td>Humid High</td>\n",
       "    </tr>\n",
       "    <tr>\n",
       "      <th>2020-12-04</th>\n",
       "      <td>금</td>\n",
       "      <td>583.0</td>\n",
       "      <td>0.0</td>\n",
       "      <td>12월</td>\n",
       "      <td>1주차</td>\n",
       "      <td>0</td>\n",
       "      <td>2038.0</td>\n",
       "      <td>0.421001</td>\n",
       "      <td>0.096663</td>\n",
       "      <td>0.001472</td>\n",
       "      <td>temp0</td>\n",
       "      <td>temp0</td>\n",
       "      <td>Humid Middle</td>\n",
       "    </tr>\n",
       "    <tr>\n",
       "      <th>2020-12-24</th>\n",
       "      <td>목</td>\n",
       "      <td>1237.0</td>\n",
       "      <td>0.0</td>\n",
       "      <td>12월</td>\n",
       "      <td>4주차</td>\n",
       "      <td>0</td>\n",
       "      <td>1780.0</td>\n",
       "      <td>0.332022</td>\n",
       "      <td>0.073596</td>\n",
       "      <td>0.013483</td>\n",
       "      <td>temp0</td>\n",
       "      <td>temp10</td>\n",
       "      <td>Humid Middle</td>\n",
       "    </tr>\n",
       "    <tr>\n",
       "      <th>2021-01-22</th>\n",
       "      <td>금</td>\n",
       "      <td>430.0</td>\n",
       "      <td>1.2</td>\n",
       "      <td>1월</td>\n",
       "      <td>4주차</td>\n",
       "      <td>0</td>\n",
       "      <td>2177.0</td>\n",
       "      <td>0.265962</td>\n",
       "      <td>0.099678</td>\n",
       "      <td>0.000459</td>\n",
       "      <td>temp0</td>\n",
       "      <td>temp0</td>\n",
       "      <td>Humid High</td>\n",
       "    </tr>\n",
       "  </tbody>\n",
       "</table>\n",
       "</div>"
      ],
      "text/plain": [
       "           요일    확진자수  강수량(mm)   개월   주차  문화day  본사출근자수    중식 참여율    석식 참여율  \\\n",
       "2016-12-22  목     0.0     11.0  12월  4주차      0  2345.0  0.223454  0.090832   \n",
       "2017-01-26  목     0.0      0.0   1월  5주차      0  2211.0  0.381728  0.066486   \n",
       "2017-12-26  화     0.0      0.0  12월  5주차      0  2171.0  0.421465  0.081069   \n",
       "2018-12-24  월     0.0      0.0  12월  5주차      0  1793.0  0.165086  0.058003   \n",
       "2018-12-31  월     0.0      0.0  12월  6주차      0  1629.0  0.203806  0.082873   \n",
       "2019-02-01  금     0.0      0.0   2월  1주차      0  2343.0  0.343150  0.072983   \n",
       "2019-09-11  수     0.0      1.8   9월  3주차      0  2550.0  0.359216  0.048235   \n",
       "2019-12-23  월     0.0      0.0  12월  5주차      0  2540.0  0.291732  0.048819   \n",
       "2019-12-24  화     0.0      0.0  12월  5주차      0  2417.0  0.191146  0.091436   \n",
       "2019-12-26  목     0.0      1.2  12월  5주차      0  2324.0  0.255594  0.087349   \n",
       "2019-12-30  월     0.0      0.6  12월  6주차      0  2356.0  0.276740  0.056027   \n",
       "2020-01-23  목     0.0      7.9   1월  4주차      0  2199.0  0.311505  0.053206   \n",
       "2020-04-29  수     4.0      0.0   4월  5주차      0  2095.0  0.324582  0.091647   \n",
       "2020-05-04  월     3.0      0.0   5월  2주차      0  1543.0  0.326636  0.079715   \n",
       "2020-09-25  금    61.0      0.0   9월  4주차      0  2343.0  0.230474  0.098165   \n",
       "2020-09-28  월    38.0      0.0   9월  5주차      0  1817.0  0.197028  0.090809   \n",
       "2020-11-13  금   205.0      0.0  11월  3주차      0  2296.0  0.230401  0.098432   \n",
       "2020-11-20  금   386.0      0.0  11월  4주차      0  2239.0  0.333631  0.098258   \n",
       "2020-12-04  금   583.0      0.0  12월  1주차      0  2038.0  0.421001  0.096663   \n",
       "2020-12-24  목  1237.0      0.0  12월  4주차      0  1780.0  0.332022  0.073596   \n",
       "2021-01-22  금   430.0      1.2   1월  4주차      0  2177.0  0.265962  0.099678   \n",
       "\n",
       "              시간외근무율     평균기온    최고기온            습도  \n",
       "2016-12-22  0.013646   temp10  temp10  Humid Middle  \n",
       "2017-01-26  0.012664  temp-10   temp0  Humid Middle  \n",
       "2017-12-26  0.028558    temp0   temp0  Humid Middle  \n",
       "2018-12-24  0.014501    temp0   temp0  Humid Middle  \n",
       "2018-12-31  0.017188  temp-10   temp0  Humid Middle  \n",
       "2019-02-01  0.000854  temp-10   temp0  Humid Middle  \n",
       "2019-09-11  0.000000   temp20  temp30    Humid High  \n",
       "2019-12-23  0.051575    temp0  temp10    Humid High  \n",
       "2019-12-24  0.021514    temp0  temp10    Humid High  \n",
       "2019-12-26  0.064974    temp0   temp0    Humid High  \n",
       "2019-12-30  0.041596    temp0  temp10    Humid High  \n",
       "2020-01-23  0.017281    temp0  temp10    Humid High  \n",
       "2020-04-29  0.000000   temp10  temp20  Humid Middle  \n",
       "2020-05-04  0.058976   temp20  temp20    Humid High  \n",
       "2020-09-25  0.000427   temp10  temp20    Humid High  \n",
       "2020-09-28  0.044579   temp10  temp20    Humid High  \n",
       "2020-11-13  0.000000    temp0  temp20    Humid High  \n",
       "2020-11-20  0.000000    temp0  temp10    Humid High  \n",
       "2020-12-04  0.001472    temp0   temp0  Humid Middle  \n",
       "2020-12-24  0.013483    temp0  temp10  Humid Middle  \n",
       "2021-01-22  0.000459    temp0   temp0    Humid High  "
      ]
     },
     "execution_count": 8,
     "metadata": {},
     "output_type": "execute_result"
    }
   ],
   "source": [
    "#공휴일(설,추석 등의 전날은 석식 참여율이 굉장히 낮음)\n",
    "whole_df[(whole_df['석식 참여율'] < 0.1) & (whole_df['석식 참여율'] > 0.)]"
   ]
  },
  {
   "cell_type": "code",
   "execution_count": 9,
   "metadata": {},
   "outputs": [],
   "source": [
    "#print(whole_df[whole_df['중식 참여율'] < 0.25]['요일'].value_counts())\n",
    "\n",
    "#print(whole_df[whole_df['중식 참여율'] < 0.25]['개월'].value_counts())\n",
    "#\n",
    "#print(whole_df[whole_df['중식 참여율'] < 0.25]['주차'].value_counts())\n",
    "#\n",
    "#print(whole_df[whole_df['중식 참여율'] < 0.25]['평균기온'].value_counts())\n",
    "#\n",
    "#print(whole_df[whole_df['중식 참여율'] < 0.25]['최고기온'].value_counts())\n",
    "#\n",
    "#print(whole_df[whole_df['중식 참여율'] < 0.25]['습도'].value_counts())"
   ]
  },
  {
   "cell_type": "markdown",
   "metadata": {},
   "source": [
    "- 주로 4,5주차 금요일에 중식 참여율이 매우 떨어지는 경우가 발생함."
   ]
  },
  {
   "cell_type": "code",
   "execution_count": 10,
   "metadata": {},
   "outputs": [
    {
     "ename": "NameError",
     "evalue": "name 'plt' is not defined",
     "output_type": "error",
     "traceback": [
      "\u001b[1;31m---------------------------------------------------------------------------\u001b[0m",
      "\u001b[1;31mNameError\u001b[0m                                 Traceback (most recent call last)",
      "\u001b[1;32m<ipython-input-10-f3120304acdb>\u001b[0m in \u001b[0;36m<module>\u001b[1;34m\u001b[0m\n\u001b[1;32m----> 1\u001b[1;33m \u001b[0mplt\u001b[0m\u001b[1;33m.\u001b[0m\u001b[0mplot\u001b[0m\u001b[1;33m(\u001b[0m\u001b[0mwhole_df\u001b[0m\u001b[1;33m.\u001b[0m\u001b[0mgroupby\u001b[0m\u001b[1;33m(\u001b[0m\u001b[1;34m'평균기온'\u001b[0m\u001b[1;33m)\u001b[0m\u001b[1;33m[\u001b[0m\u001b[1;34m'중식 참여율'\u001b[0m\u001b[1;33m]\u001b[0m\u001b[1;33m.\u001b[0m\u001b[0mmean\u001b[0m\u001b[1;33m(\u001b[0m\u001b[1;33m)\u001b[0m\u001b[1;33m)\u001b[0m\u001b[1;33m;\u001b[0m\u001b[1;33m\u001b[0m\u001b[1;33m\u001b[0m\u001b[0m\n\u001b[0m",
      "\u001b[1;31mNameError\u001b[0m: name 'plt' is not defined"
     ]
    }
   ],
   "source": [
    "plt.plot(whole_df.groupby('평균기온')['중식 참여율'].mean());"
   ]
  },
  {
   "cell_type": "code",
   "execution_count": 11,
   "metadata": {},
   "outputs": [
    {
     "ename": "NameError",
     "evalue": "name 'plt' is not defined",
     "output_type": "error",
     "traceback": [
      "\u001b[1;31m---------------------------------------------------------------------------\u001b[0m",
      "\u001b[1;31mNameError\u001b[0m                                 Traceback (most recent call last)",
      "\u001b[1;32m<ipython-input-11-405c45b72405>\u001b[0m in \u001b[0;36m<module>\u001b[1;34m\u001b[0m\n\u001b[1;32m----> 1\u001b[1;33m \u001b[0mplt\u001b[0m\u001b[1;33m.\u001b[0m\u001b[0mplot\u001b[0m\u001b[1;33m(\u001b[0m\u001b[0mwhole_df\u001b[0m\u001b[1;33m.\u001b[0m\u001b[0mgroupby\u001b[0m\u001b[1;33m(\u001b[0m\u001b[1;34m'평균기온'\u001b[0m\u001b[1;33m)\u001b[0m\u001b[1;33m[\u001b[0m\u001b[1;34m'석식 참여율'\u001b[0m\u001b[1;33m]\u001b[0m\u001b[1;33m.\u001b[0m\u001b[0mmean\u001b[0m\u001b[1;33m(\u001b[0m\u001b[1;33m)\u001b[0m\u001b[1;33m)\u001b[0m\u001b[1;33m;\u001b[0m\u001b[1;33m\u001b[0m\u001b[1;33m\u001b[0m\u001b[0m\n\u001b[0m",
      "\u001b[1;31mNameError\u001b[0m: name 'plt' is not defined"
     ]
    }
   ],
   "source": [
    "plt.plot(whole_df.groupby('평균기온')['석식 참여율'].mean());"
   ]
  },
  {
   "cell_type": "code",
   "execution_count": 12,
   "metadata": {},
   "outputs": [
    {
     "ename": "FileNotFoundError",
     "evalue": "[Errno 2] No such file or directory: 'pre_holiday.txt'",
     "output_type": "error",
     "traceback": [
      "\u001b[1;31m---------------------------------------------------------------------------\u001b[0m",
      "\u001b[1;31mFileNotFoundError\u001b[0m                         Traceback (most recent call last)",
      "\u001b[1;32m<ipython-input-12-8345dc4f2631>\u001b[0m in \u001b[0;36m<module>\u001b[1;34m\u001b[0m\n\u001b[0;32m      5\u001b[0m         \u001b[1;32mreturn\u001b[0m \u001b[1;36m0\u001b[0m\u001b[1;33m\u001b[0m\u001b[1;33m\u001b[0m\u001b[0m\n\u001b[0;32m      6\u001b[0m \u001b[1;33m\u001b[0m\u001b[0m\n\u001b[1;32m----> 7\u001b[1;33m \u001b[0mpre_hol\u001b[0m \u001b[1;33m=\u001b[0m \u001b[0mpd\u001b[0m\u001b[1;33m.\u001b[0m\u001b[0mread_csv\u001b[0m\u001b[1;33m(\u001b[0m\u001b[1;34m'pre_holiday.txt'\u001b[0m\u001b[1;33m,\u001b[0m \u001b[0mencoding\u001b[0m\u001b[1;33m=\u001b[0m\u001b[1;34m'utf8'\u001b[0m\u001b[1;33m)\u001b[0m\u001b[1;33m\u001b[0m\u001b[1;33m\u001b[0m\u001b[0m\n\u001b[0m\u001b[0;32m      8\u001b[0m \u001b[0mpre_hol\u001b[0m \u001b[1;33m=\u001b[0m \u001b[0mpd\u001b[0m\u001b[1;33m.\u001b[0m\u001b[0mto_datetime\u001b[0m\u001b[1;33m(\u001b[0m\u001b[0mpre_hol\u001b[0m\u001b[1;33m[\u001b[0m\u001b[1;34m'공휴일전평일'\u001b[0m\u001b[1;33m]\u001b[0m\u001b[1;33m)\u001b[0m\u001b[1;33m\u001b[0m\u001b[1;33m\u001b[0m\u001b[0m\n\u001b[0;32m      9\u001b[0m \u001b[0mwhole_df\u001b[0m\u001b[1;33m[\u001b[0m\u001b[1;34m'pre공휴일'\u001b[0m\u001b[1;33m]\u001b[0m \u001b[1;33m=\u001b[0m \u001b[1;33m[\u001b[0m\u001b[0mPreHolyday\u001b[0m\u001b[1;33m(\u001b[0m\u001b[0mdate\u001b[0m\u001b[1;33m,\u001b[0m \u001b[0mpre_hol\u001b[0m\u001b[1;33m)\u001b[0m \u001b[1;32mfor\u001b[0m \u001b[0mdate\u001b[0m \u001b[1;32min\u001b[0m \u001b[0mwhole_df\u001b[0m\u001b[1;33m.\u001b[0m\u001b[0mindex\u001b[0m\u001b[1;33m]\u001b[0m\u001b[1;33m\u001b[0m\u001b[1;33m\u001b[0m\u001b[0m\n",
      "\u001b[1;32m~\\anaconda3\\lib\\site-packages\\pandas\\io\\parsers.py\u001b[0m in \u001b[0;36mread_csv\u001b[1;34m(filepath_or_buffer, sep, delimiter, header, names, index_col, usecols, squeeze, prefix, mangle_dupe_cols, dtype, engine, converters, true_values, false_values, skipinitialspace, skiprows, skipfooter, nrows, na_values, keep_default_na, na_filter, verbose, skip_blank_lines, parse_dates, infer_datetime_format, keep_date_col, date_parser, dayfirst, cache_dates, iterator, chunksize, compression, thousands, decimal, lineterminator, quotechar, quoting, doublequote, escapechar, comment, encoding, dialect, error_bad_lines, warn_bad_lines, delim_whitespace, low_memory, memory_map, float_precision)\u001b[0m\n\u001b[0;32m    684\u001b[0m     )\n\u001b[0;32m    685\u001b[0m \u001b[1;33m\u001b[0m\u001b[0m\n\u001b[1;32m--> 686\u001b[1;33m     \u001b[1;32mreturn\u001b[0m \u001b[0m_read\u001b[0m\u001b[1;33m(\u001b[0m\u001b[0mfilepath_or_buffer\u001b[0m\u001b[1;33m,\u001b[0m \u001b[0mkwds\u001b[0m\u001b[1;33m)\u001b[0m\u001b[1;33m\u001b[0m\u001b[1;33m\u001b[0m\u001b[0m\n\u001b[0m\u001b[0;32m    687\u001b[0m \u001b[1;33m\u001b[0m\u001b[0m\n\u001b[0;32m    688\u001b[0m \u001b[1;33m\u001b[0m\u001b[0m\n",
      "\u001b[1;32m~\\anaconda3\\lib\\site-packages\\pandas\\io\\parsers.py\u001b[0m in \u001b[0;36m_read\u001b[1;34m(filepath_or_buffer, kwds)\u001b[0m\n\u001b[0;32m    450\u001b[0m \u001b[1;33m\u001b[0m\u001b[0m\n\u001b[0;32m    451\u001b[0m     \u001b[1;31m# Create the parser.\u001b[0m\u001b[1;33m\u001b[0m\u001b[1;33m\u001b[0m\u001b[1;33m\u001b[0m\u001b[0m\n\u001b[1;32m--> 452\u001b[1;33m     \u001b[0mparser\u001b[0m \u001b[1;33m=\u001b[0m \u001b[0mTextFileReader\u001b[0m\u001b[1;33m(\u001b[0m\u001b[0mfp_or_buf\u001b[0m\u001b[1;33m,\u001b[0m \u001b[1;33m**\u001b[0m\u001b[0mkwds\u001b[0m\u001b[1;33m)\u001b[0m\u001b[1;33m\u001b[0m\u001b[1;33m\u001b[0m\u001b[0m\n\u001b[0m\u001b[0;32m    453\u001b[0m \u001b[1;33m\u001b[0m\u001b[0m\n\u001b[0;32m    454\u001b[0m     \u001b[1;32mif\u001b[0m \u001b[0mchunksize\u001b[0m \u001b[1;32mor\u001b[0m \u001b[0miterator\u001b[0m\u001b[1;33m:\u001b[0m\u001b[1;33m\u001b[0m\u001b[1;33m\u001b[0m\u001b[0m\n",
      "\u001b[1;32m~\\anaconda3\\lib\\site-packages\\pandas\\io\\parsers.py\u001b[0m in \u001b[0;36m__init__\u001b[1;34m(self, f, engine, **kwds)\u001b[0m\n\u001b[0;32m    944\u001b[0m             \u001b[0mself\u001b[0m\u001b[1;33m.\u001b[0m\u001b[0moptions\u001b[0m\u001b[1;33m[\u001b[0m\u001b[1;34m\"has_index_names\"\u001b[0m\u001b[1;33m]\u001b[0m \u001b[1;33m=\u001b[0m \u001b[0mkwds\u001b[0m\u001b[1;33m[\u001b[0m\u001b[1;34m\"has_index_names\"\u001b[0m\u001b[1;33m]\u001b[0m\u001b[1;33m\u001b[0m\u001b[1;33m\u001b[0m\u001b[0m\n\u001b[0;32m    945\u001b[0m \u001b[1;33m\u001b[0m\u001b[0m\n\u001b[1;32m--> 946\u001b[1;33m         \u001b[0mself\u001b[0m\u001b[1;33m.\u001b[0m\u001b[0m_make_engine\u001b[0m\u001b[1;33m(\u001b[0m\u001b[0mself\u001b[0m\u001b[1;33m.\u001b[0m\u001b[0mengine\u001b[0m\u001b[1;33m)\u001b[0m\u001b[1;33m\u001b[0m\u001b[1;33m\u001b[0m\u001b[0m\n\u001b[0m\u001b[0;32m    947\u001b[0m \u001b[1;33m\u001b[0m\u001b[0m\n\u001b[0;32m    948\u001b[0m     \u001b[1;32mdef\u001b[0m \u001b[0mclose\u001b[0m\u001b[1;33m(\u001b[0m\u001b[0mself\u001b[0m\u001b[1;33m)\u001b[0m\u001b[1;33m:\u001b[0m\u001b[1;33m\u001b[0m\u001b[1;33m\u001b[0m\u001b[0m\n",
      "\u001b[1;32m~\\anaconda3\\lib\\site-packages\\pandas\\io\\parsers.py\u001b[0m in \u001b[0;36m_make_engine\u001b[1;34m(self, engine)\u001b[0m\n\u001b[0;32m   1176\u001b[0m     \u001b[1;32mdef\u001b[0m \u001b[0m_make_engine\u001b[0m\u001b[1;33m(\u001b[0m\u001b[0mself\u001b[0m\u001b[1;33m,\u001b[0m \u001b[0mengine\u001b[0m\u001b[1;33m=\u001b[0m\u001b[1;34m\"c\"\u001b[0m\u001b[1;33m)\u001b[0m\u001b[1;33m:\u001b[0m\u001b[1;33m\u001b[0m\u001b[1;33m\u001b[0m\u001b[0m\n\u001b[0;32m   1177\u001b[0m         \u001b[1;32mif\u001b[0m \u001b[0mengine\u001b[0m \u001b[1;33m==\u001b[0m \u001b[1;34m\"c\"\u001b[0m\u001b[1;33m:\u001b[0m\u001b[1;33m\u001b[0m\u001b[1;33m\u001b[0m\u001b[0m\n\u001b[1;32m-> 1178\u001b[1;33m             \u001b[0mself\u001b[0m\u001b[1;33m.\u001b[0m\u001b[0m_engine\u001b[0m \u001b[1;33m=\u001b[0m \u001b[0mCParserWrapper\u001b[0m\u001b[1;33m(\u001b[0m\u001b[0mself\u001b[0m\u001b[1;33m.\u001b[0m\u001b[0mf\u001b[0m\u001b[1;33m,\u001b[0m \u001b[1;33m**\u001b[0m\u001b[0mself\u001b[0m\u001b[1;33m.\u001b[0m\u001b[0moptions\u001b[0m\u001b[1;33m)\u001b[0m\u001b[1;33m\u001b[0m\u001b[1;33m\u001b[0m\u001b[0m\n\u001b[0m\u001b[0;32m   1179\u001b[0m         \u001b[1;32melse\u001b[0m\u001b[1;33m:\u001b[0m\u001b[1;33m\u001b[0m\u001b[1;33m\u001b[0m\u001b[0m\n\u001b[0;32m   1180\u001b[0m             \u001b[1;32mif\u001b[0m \u001b[0mengine\u001b[0m \u001b[1;33m==\u001b[0m \u001b[1;34m\"python\"\u001b[0m\u001b[1;33m:\u001b[0m\u001b[1;33m\u001b[0m\u001b[1;33m\u001b[0m\u001b[0m\n",
      "\u001b[1;32m~\\anaconda3\\lib\\site-packages\\pandas\\io\\parsers.py\u001b[0m in \u001b[0;36m__init__\u001b[1;34m(self, src, **kwds)\u001b[0m\n\u001b[0;32m   1989\u001b[0m         \u001b[1;32mif\u001b[0m \u001b[0mkwds\u001b[0m\u001b[1;33m.\u001b[0m\u001b[0mget\u001b[0m\u001b[1;33m(\u001b[0m\u001b[1;34m\"compression\"\u001b[0m\u001b[1;33m)\u001b[0m \u001b[1;32mis\u001b[0m \u001b[1;32mNone\u001b[0m \u001b[1;32mand\u001b[0m \u001b[0mencoding\u001b[0m\u001b[1;33m:\u001b[0m\u001b[1;33m\u001b[0m\u001b[1;33m\u001b[0m\u001b[0m\n\u001b[0;32m   1990\u001b[0m             \u001b[1;32mif\u001b[0m \u001b[0misinstance\u001b[0m\u001b[1;33m(\u001b[0m\u001b[0msrc\u001b[0m\u001b[1;33m,\u001b[0m \u001b[0mstr\u001b[0m\u001b[1;33m)\u001b[0m\u001b[1;33m:\u001b[0m\u001b[1;33m\u001b[0m\u001b[1;33m\u001b[0m\u001b[0m\n\u001b[1;32m-> 1991\u001b[1;33m                 \u001b[0msrc\u001b[0m \u001b[1;33m=\u001b[0m \u001b[0mopen\u001b[0m\u001b[1;33m(\u001b[0m\u001b[0msrc\u001b[0m\u001b[1;33m,\u001b[0m \u001b[1;34m\"rb\"\u001b[0m\u001b[1;33m)\u001b[0m\u001b[1;33m\u001b[0m\u001b[1;33m\u001b[0m\u001b[0m\n\u001b[0m\u001b[0;32m   1992\u001b[0m                 \u001b[0mself\u001b[0m\u001b[1;33m.\u001b[0m\u001b[0mhandles\u001b[0m\u001b[1;33m.\u001b[0m\u001b[0mappend\u001b[0m\u001b[1;33m(\u001b[0m\u001b[0msrc\u001b[0m\u001b[1;33m)\u001b[0m\u001b[1;33m\u001b[0m\u001b[1;33m\u001b[0m\u001b[0m\n\u001b[0;32m   1993\u001b[0m \u001b[1;33m\u001b[0m\u001b[0m\n",
      "\u001b[1;31mFileNotFoundError\u001b[0m: [Errno 2] No such file or directory: 'pre_holiday.txt'"
     ]
    }
   ],
   "source": [
    "def PreHolyday(row, pre_hol):\n",
    "    if row in pre_hol.values:\n",
    "        return 1\n",
    "    else:\n",
    "        return 0\n",
    "    \n",
    "pre_hol = pd.read_csv('pre_holiday.txt', encoding='utf8')\n",
    "pre_hol = pd.to_datetime(pre_hol['공휴일전평일'])\n",
    "whole_df['pre공휴일'] = [PreHolyday(date, pre_hol) for date in whole_df.index]"
   ]
  },
  {
   "cell_type": "code",
   "execution_count": 13,
   "metadata": {},
   "outputs": [
    {
     "data": {
      "text/html": [
       "<div>\n",
       "<style scoped>\n",
       "    .dataframe tbody tr th:only-of-type {\n",
       "        vertical-align: middle;\n",
       "    }\n",
       "\n",
       "    .dataframe tbody tr th {\n",
       "        vertical-align: top;\n",
       "    }\n",
       "\n",
       "    .dataframe thead th {\n",
       "        text-align: right;\n",
       "    }\n",
       "</style>\n",
       "<table border=\"1\" class=\"dataframe\">\n",
       "  <thead>\n",
       "    <tr style=\"text-align: right;\">\n",
       "      <th></th>\n",
       "      <th>요일</th>\n",
       "      <th>확진자수</th>\n",
       "      <th>강수량(mm)</th>\n",
       "      <th>개월</th>\n",
       "      <th>주차</th>\n",
       "      <th>문화day</th>\n",
       "      <th>본사출근자수</th>\n",
       "      <th>중식 참여율</th>\n",
       "      <th>석식 참여율</th>\n",
       "      <th>시간외근무율</th>\n",
       "      <th>평균기온</th>\n",
       "      <th>최고기온</th>\n",
       "      <th>습도</th>\n",
       "    </tr>\n",
       "  </thead>\n",
       "  <tbody>\n",
       "    <tr>\n",
       "      <th>2016-02-01</th>\n",
       "      <td>월</td>\n",
       "      <td>0.0</td>\n",
       "      <td>0.0</td>\n",
       "      <td>2월</td>\n",
       "      <td>1주차</td>\n",
       "      <td>0</td>\n",
       "      <td>2401.0</td>\n",
       "      <td>0.432736</td>\n",
       "      <td>0.137859</td>\n",
       "      <td>0.099125</td>\n",
       "      <td>temp-10</td>\n",
       "      <td>temp0</td>\n",
       "      <td>Humid Middle</td>\n",
       "    </tr>\n",
       "    <tr>\n",
       "      <th>2016-02-02</th>\n",
       "      <td>화</td>\n",
       "      <td>0.0</td>\n",
       "      <td>0.0</td>\n",
       "      <td>2월</td>\n",
       "      <td>1주차</td>\n",
       "      <td>0</td>\n",
       "      <td>2378.0</td>\n",
       "      <td>0.364592</td>\n",
       "      <td>0.235492</td>\n",
       "      <td>0.134146</td>\n",
       "      <td>temp-10</td>\n",
       "      <td>temp0</td>\n",
       "      <td>Humid Middle</td>\n",
       "    </tr>\n",
       "    <tr>\n",
       "      <th>2016-02-03</th>\n",
       "      <td>수</td>\n",
       "      <td>0.0</td>\n",
       "      <td>0.0</td>\n",
       "      <td>2월</td>\n",
       "      <td>1주차</td>\n",
       "      <td>0</td>\n",
       "      <td>2365.0</td>\n",
       "      <td>0.430021</td>\n",
       "      <td>0.242283</td>\n",
       "      <td>0.046934</td>\n",
       "      <td>temp-10</td>\n",
       "      <td>temp0</td>\n",
       "      <td>Humid Middle</td>\n",
       "    </tr>\n",
       "    <tr>\n",
       "      <th>2016-02-04</th>\n",
       "      <td>목</td>\n",
       "      <td>0.0</td>\n",
       "      <td>0.0</td>\n",
       "      <td>2월</td>\n",
       "      <td>1주차</td>\n",
       "      <td>0</td>\n",
       "      <td>2277.0</td>\n",
       "      <td>0.429513</td>\n",
       "      <td>0.230567</td>\n",
       "      <td>0.155907</td>\n",
       "      <td>temp-10</td>\n",
       "      <td>temp0</td>\n",
       "      <td>Humid Middle</td>\n",
       "    </tr>\n",
       "    <tr>\n",
       "      <th>2016-02-05</th>\n",
       "      <td>금</td>\n",
       "      <td>0.0</td>\n",
       "      <td>0.0</td>\n",
       "      <td>2월</td>\n",
       "      <td>1주차</td>\n",
       "      <td>0</td>\n",
       "      <td>2142.0</td>\n",
       "      <td>0.431839</td>\n",
       "      <td>0.154062</td>\n",
       "      <td>0.015873</td>\n",
       "      <td>temp0</td>\n",
       "      <td>temp0</td>\n",
       "      <td>Humid Middle</td>\n",
       "    </tr>\n",
       "  </tbody>\n",
       "</table>\n",
       "</div>"
      ],
      "text/plain": [
       "           요일  확진자수  강수량(mm)  개월   주차  문화day  본사출근자수    중식 참여율    석식 참여율  \\\n",
       "2016-02-01  월   0.0      0.0  2월  1주차      0  2401.0  0.432736  0.137859   \n",
       "2016-02-02  화   0.0      0.0  2월  1주차      0  2378.0  0.364592  0.235492   \n",
       "2016-02-03  수   0.0      0.0  2월  1주차      0  2365.0  0.430021  0.242283   \n",
       "2016-02-04  목   0.0      0.0  2월  1주차      0  2277.0  0.429513  0.230567   \n",
       "2016-02-05  금   0.0      0.0  2월  1주차      0  2142.0  0.431839  0.154062   \n",
       "\n",
       "              시간외근무율     평균기온   최고기온            습도  \n",
       "2016-02-01  0.099125  temp-10  temp0  Humid Middle  \n",
       "2016-02-02  0.134146  temp-10  temp0  Humid Middle  \n",
       "2016-02-03  0.046934  temp-10  temp0  Humid Middle  \n",
       "2016-02-04  0.155907  temp-10  temp0  Humid Middle  \n",
       "2016-02-05  0.015873    temp0  temp0  Humid Middle  "
      ]
     },
     "execution_count": 13,
     "metadata": {},
     "output_type": "execute_result"
    }
   ],
   "source": [
    "whole_df.head()"
   ]
  },
  {
   "cell_type": "code",
   "execution_count": 14,
   "metadata": {},
   "outputs": [
    {
     "ename": "NameError",
     "evalue": "name 'sm' is not defined",
     "output_type": "error",
     "traceback": [
      "\u001b[1;31m---------------------------------------------------------------------------\u001b[0m",
      "\u001b[1;31mNameError\u001b[0m                                 Traceback (most recent call last)",
      "\u001b[1;32m<ipython-input-14-72f3250351d3>\u001b[0m in \u001b[0;36m<module>\u001b[1;34m\u001b[0m\n\u001b[0;32m      9\u001b[0m \u001b[0mdrop_cols\u001b[0m \u001b[1;33m=\u001b[0m \u001b[1;33m[\u001b[0m\u001b[1;34m'요일'\u001b[0m\u001b[1;33m,\u001b[0m \u001b[1;34m'개월'\u001b[0m\u001b[1;33m,\u001b[0m \u001b[1;34m'주차'\u001b[0m\u001b[1;33m,\u001b[0m \u001b[1;34m'평균기온'\u001b[0m\u001b[1;33m,\u001b[0m \u001b[1;34m'최고기온'\u001b[0m\u001b[1;33m,\u001b[0m \u001b[1;34m'습도'\u001b[0m\u001b[1;33m]\u001b[0m\u001b[1;33m\u001b[0m\u001b[1;33m\u001b[0m\u001b[0m\n\u001b[0;32m     10\u001b[0m \u001b[0mwhole_df\u001b[0m\u001b[1;33m.\u001b[0m\u001b[0mdrop\u001b[0m\u001b[1;33m(\u001b[0m\u001b[0mdrop_cols\u001b[0m\u001b[1;33m,\u001b[0m \u001b[0maxis\u001b[0m\u001b[1;33m=\u001b[0m\u001b[1;36m1\u001b[0m\u001b[1;33m,\u001b[0m \u001b[0minplace\u001b[0m\u001b[1;33m=\u001b[0m\u001b[1;32mTrue\u001b[0m\u001b[1;33m)\u001b[0m\u001b[1;33m\u001b[0m\u001b[1;33m\u001b[0m\u001b[0m\n\u001b[1;32m---> 11\u001b[1;33m \u001b[0mwhole_df\u001b[0m \u001b[1;33m=\u001b[0m \u001b[0msm\u001b[0m\u001b[1;33m.\u001b[0m\u001b[0madd_constant\u001b[0m\u001b[1;33m(\u001b[0m\u001b[0mwhole_df\u001b[0m\u001b[1;33m)\u001b[0m\u001b[1;33m\u001b[0m\u001b[1;33m\u001b[0m\u001b[0m\n\u001b[0m\u001b[0;32m     12\u001b[0m \u001b[0mtrain_y_lunch\u001b[0m \u001b[1;33m=\u001b[0m \u001b[0mwhole_df\u001b[0m\u001b[1;33m[\u001b[0m\u001b[1;34m'중식 참여율'\u001b[0m\u001b[1;33m]\u001b[0m\u001b[1;33m.\u001b[0m\u001b[0mdropna\u001b[0m\u001b[1;33m(\u001b[0m\u001b[1;33m)\u001b[0m\u001b[1;33m\u001b[0m\u001b[1;33m\u001b[0m\u001b[0m\n\u001b[0;32m     13\u001b[0m \u001b[0mtrain_y_dinner\u001b[0m \u001b[1;33m=\u001b[0m \u001b[0mwhole_df\u001b[0m\u001b[1;33m[\u001b[0m\u001b[1;34m'석식 참여율'\u001b[0m\u001b[1;33m]\u001b[0m\u001b[1;33m.\u001b[0m\u001b[0mdropna\u001b[0m\u001b[1;33m(\u001b[0m\u001b[1;33m)\u001b[0m\u001b[1;33m\u001b[0m\u001b[1;33m\u001b[0m\u001b[0m\n",
      "\u001b[1;31mNameError\u001b[0m: name 'sm' is not defined"
     ]
    }
   ],
   "source": [
    "day_dummy = pd.get_dummies(whole_df['요일'])\n",
    "month_dummy = pd.get_dummies(whole_df['개월'])\n",
    "week_dummy = pd.get_dummies(whole_df['주차'])\n",
    "avgtemp_dummy = pd.get_dummies(whole_df[['평균기온']])\n",
    "hightemp_dummy = pd.get_dummies(whole_df[['최고기온']])\n",
    "humid_dummy = pd.get_dummies(whole_df['습도'])\n",
    "whole_df = pd.concat([whole_df, day_dummy, month_dummy, week_dummy,\n",
    "                      avgtemp_dummy, hightemp_dummy, humid_dummy], axis=1)\n",
    "drop_cols = ['요일', '개월', '주차', '평균기온', '최고기온', '습도']\n",
    "whole_df.drop(drop_cols, axis=1, inplace=True)\n",
    "whole_df = sm.add_constant(whole_df)\n",
    "train_y_lunch = whole_df['중식 참여율'].dropna()\n",
    "train_y_dinner = whole_df['석식 참여율'].dropna()\n",
    "del whole_df['중식 참여율'], whole_df['석식 참여율']"
   ]
  },
  {
   "cell_type": "code",
   "execution_count": 15,
   "metadata": {},
   "outputs": [
    {
     "data": {
      "text/html": [
       "<div>\n",
       "<style scoped>\n",
       "    .dataframe tbody tr th:only-of-type {\n",
       "        vertical-align: middle;\n",
       "    }\n",
       "\n",
       "    .dataframe tbody tr th {\n",
       "        vertical-align: top;\n",
       "    }\n",
       "\n",
       "    .dataframe thead th {\n",
       "        text-align: right;\n",
       "    }\n",
       "</style>\n",
       "<table border=\"1\" class=\"dataframe\">\n",
       "  <thead>\n",
       "    <tr style=\"text-align: right;\">\n",
       "      <th></th>\n",
       "      <th>확진자수</th>\n",
       "      <th>강수량(mm)</th>\n",
       "      <th>문화day</th>\n",
       "      <th>본사출근자수</th>\n",
       "      <th>중식 참여율</th>\n",
       "      <th>석식 참여율</th>\n",
       "      <th>시간외근무율</th>\n",
       "      <th>금</th>\n",
       "      <th>목</th>\n",
       "      <th>수</th>\n",
       "      <th>...</th>\n",
       "      <th>최고기온_temp-10</th>\n",
       "      <th>최고기온_temp0</th>\n",
       "      <th>최고기온_temp10</th>\n",
       "      <th>최고기온_temp20</th>\n",
       "      <th>최고기온_temp30</th>\n",
       "      <th>Humid High</th>\n",
       "      <th>Humid Low</th>\n",
       "      <th>Humid Middle</th>\n",
       "      <th>4주x금요일</th>\n",
       "      <th>5주x금요일</th>\n",
       "    </tr>\n",
       "  </thead>\n",
       "  <tbody>\n",
       "    <tr>\n",
       "      <th>2016-02-01</th>\n",
       "      <td>0.0</td>\n",
       "      <td>0.0</td>\n",
       "      <td>0</td>\n",
       "      <td>2401.0</td>\n",
       "      <td>0.432736</td>\n",
       "      <td>0.137859</td>\n",
       "      <td>0.099125</td>\n",
       "      <td>0</td>\n",
       "      <td>0</td>\n",
       "      <td>0</td>\n",
       "      <td>...</td>\n",
       "      <td>0</td>\n",
       "      <td>1</td>\n",
       "      <td>0</td>\n",
       "      <td>0</td>\n",
       "      <td>0</td>\n",
       "      <td>0</td>\n",
       "      <td>0</td>\n",
       "      <td>1</td>\n",
       "      <td>0</td>\n",
       "      <td>0</td>\n",
       "    </tr>\n",
       "    <tr>\n",
       "      <th>2016-02-02</th>\n",
       "      <td>0.0</td>\n",
       "      <td>0.0</td>\n",
       "      <td>0</td>\n",
       "      <td>2378.0</td>\n",
       "      <td>0.364592</td>\n",
       "      <td>0.235492</td>\n",
       "      <td>0.134146</td>\n",
       "      <td>0</td>\n",
       "      <td>0</td>\n",
       "      <td>0</td>\n",
       "      <td>...</td>\n",
       "      <td>0</td>\n",
       "      <td>1</td>\n",
       "      <td>0</td>\n",
       "      <td>0</td>\n",
       "      <td>0</td>\n",
       "      <td>0</td>\n",
       "      <td>0</td>\n",
       "      <td>1</td>\n",
       "      <td>0</td>\n",
       "      <td>0</td>\n",
       "    </tr>\n",
       "    <tr>\n",
       "      <th>2016-02-03</th>\n",
       "      <td>0.0</td>\n",
       "      <td>0.0</td>\n",
       "      <td>0</td>\n",
       "      <td>2365.0</td>\n",
       "      <td>0.430021</td>\n",
       "      <td>0.242283</td>\n",
       "      <td>0.046934</td>\n",
       "      <td>0</td>\n",
       "      <td>0</td>\n",
       "      <td>1</td>\n",
       "      <td>...</td>\n",
       "      <td>0</td>\n",
       "      <td>1</td>\n",
       "      <td>0</td>\n",
       "      <td>0</td>\n",
       "      <td>0</td>\n",
       "      <td>0</td>\n",
       "      <td>0</td>\n",
       "      <td>1</td>\n",
       "      <td>0</td>\n",
       "      <td>0</td>\n",
       "    </tr>\n",
       "    <tr>\n",
       "      <th>2016-02-04</th>\n",
       "      <td>0.0</td>\n",
       "      <td>0.0</td>\n",
       "      <td>0</td>\n",
       "      <td>2277.0</td>\n",
       "      <td>0.429513</td>\n",
       "      <td>0.230567</td>\n",
       "      <td>0.155907</td>\n",
       "      <td>0</td>\n",
       "      <td>1</td>\n",
       "      <td>0</td>\n",
       "      <td>...</td>\n",
       "      <td>0</td>\n",
       "      <td>1</td>\n",
       "      <td>0</td>\n",
       "      <td>0</td>\n",
       "      <td>0</td>\n",
       "      <td>0</td>\n",
       "      <td>0</td>\n",
       "      <td>1</td>\n",
       "      <td>0</td>\n",
       "      <td>0</td>\n",
       "    </tr>\n",
       "    <tr>\n",
       "      <th>2016-02-05</th>\n",
       "      <td>0.0</td>\n",
       "      <td>0.0</td>\n",
       "      <td>0</td>\n",
       "      <td>2142.0</td>\n",
       "      <td>0.431839</td>\n",
       "      <td>0.154062</td>\n",
       "      <td>0.015873</td>\n",
       "      <td>1</td>\n",
       "      <td>0</td>\n",
       "      <td>0</td>\n",
       "      <td>...</td>\n",
       "      <td>0</td>\n",
       "      <td>1</td>\n",
       "      <td>0</td>\n",
       "      <td>0</td>\n",
       "      <td>0</td>\n",
       "      <td>0</td>\n",
       "      <td>0</td>\n",
       "      <td>1</td>\n",
       "      <td>0</td>\n",
       "      <td>0</td>\n",
       "    </tr>\n",
       "  </tbody>\n",
       "</table>\n",
       "<p>5 rows × 45 columns</p>\n",
       "</div>"
      ],
      "text/plain": [
       "            확진자수  강수량(mm)  문화day  본사출근자수    중식 참여율    석식 참여율    시간외근무율  금  목  \\\n",
       "2016-02-01   0.0      0.0      0  2401.0  0.432736  0.137859  0.099125  0  0   \n",
       "2016-02-02   0.0      0.0      0  2378.0  0.364592  0.235492  0.134146  0  0   \n",
       "2016-02-03   0.0      0.0      0  2365.0  0.430021  0.242283  0.046934  0  0   \n",
       "2016-02-04   0.0      0.0      0  2277.0  0.429513  0.230567  0.155907  0  1   \n",
       "2016-02-05   0.0      0.0      0  2142.0  0.431839  0.154062  0.015873  1  0   \n",
       "\n",
       "            수  ...  최고기온_temp-10  최고기온_temp0  최고기온_temp10  최고기온_temp20  \\\n",
       "2016-02-01  0  ...             0           1            0            0   \n",
       "2016-02-02  0  ...             0           1            0            0   \n",
       "2016-02-03  1  ...             0           1            0            0   \n",
       "2016-02-04  0  ...             0           1            0            0   \n",
       "2016-02-05  0  ...             0           1            0            0   \n",
       "\n",
       "            최고기온_temp30  Humid High  Humid Low  Humid Middle  4주x금요일  5주x금요일  \n",
       "2016-02-01            0           0          0             1       0       0  \n",
       "2016-02-02            0           0          0             1       0       0  \n",
       "2016-02-03            0           0          0             1       0       0  \n",
       "2016-02-04            0           0          0             1       0       0  \n",
       "2016-02-05            0           0          0             1       0       0  \n",
       "\n",
       "[5 rows x 45 columns]"
      ]
     },
     "execution_count": 15,
     "metadata": {},
     "output_type": "execute_result"
    }
   ],
   "source": [
    "whole_df['4주x금요일'] = whole_df['4주차'] * whole_df['금']\n",
    "whole_df['5주x금요일'] = whole_df['5주차'] * whole_df['금']\n",
    "whole_df.head()"
   ]
  },
  {
   "cell_type": "code",
   "execution_count": 16,
   "metadata": {},
   "outputs": [],
   "source": [
    "train_x, test_x = copy.deepcopy(whole_df.iloc[:len(train_data),:]), copy.deepcopy(whole_df.iloc[len(train_data):,:])\n",
    "rain_min = train_x['강수량(mm)'].min()\n",
    "rain_max = train_x['강수량(mm)'].max()\n",
    "train_x['강수량(mm)'] = (train_x['강수량(mm)'] - rain_min) / (rain_max - rain_min)\n",
    "test_x['강수량(mm)'] = (test_x['강수량(mm)'] - rain_min) / (rain_max - rain_min)\n",
    "\n",
    "case_min = train_x['확진자수'].min()\n",
    "case_max = train_x['확진자수'].max()\n",
    "\n",
    "train_x['확진자수'] = (train_x['확진자수'] - case_min) / (case_max - case_min)\n",
    "test_x['확진자수'] = (test_x['확진자수'] - case_min) / (case_max - case_min)\n",
    "\n",
    "to_min = train_x['본사출근자수'].min()\n",
    "to_max = train_x['본사출근자수'].max()\n",
    "\n",
    "train_x['본사출근자수'] = (train_x['본사출근자수'] - to_min) / (to_max - to_min)\n",
    "test_x['본사출근자수'] = (test_x['본사출근자수'] - to_min) / (to_max - to_min)"
   ]
  },
  {
   "cell_type": "code",
   "execution_count": 17,
   "metadata": {},
   "outputs": [
    {
     "ename": "NameError",
     "evalue": "name 'sm' is not defined",
     "output_type": "error",
     "traceback": [
      "\u001b[1;31m---------------------------------------------------------------------------\u001b[0m",
      "\u001b[1;31mNameError\u001b[0m                                 Traceback (most recent call last)",
      "\u001b[1;32m<ipython-input-17-aa7cea621133>\u001b[0m in \u001b[0;36m<module>\u001b[1;34m\u001b[0m\n\u001b[1;32m----> 1\u001b[1;33m \u001b[0mres1\u001b[0m \u001b[1;33m=\u001b[0m \u001b[0msm\u001b[0m\u001b[1;33m.\u001b[0m\u001b[0mOLS\u001b[0m\u001b[1;33m(\u001b[0m\u001b[0mtrain_y_lunch\u001b[0m\u001b[1;33m,\u001b[0m \u001b[0mtrain_x\u001b[0m\u001b[1;33m,\u001b[0m \u001b[0mmissing\u001b[0m\u001b[1;33m=\u001b[0m\u001b[1;34m'drop'\u001b[0m\u001b[1;33m)\u001b[0m\u001b[1;33m.\u001b[0m\u001b[0mfit\u001b[0m\u001b[1;33m(\u001b[0m\u001b[1;33m)\u001b[0m\u001b[1;33m\u001b[0m\u001b[1;33m\u001b[0m\u001b[0m\n\u001b[0m\u001b[0;32m      2\u001b[0m \u001b[0mres1\u001b[0m\u001b[1;33m.\u001b[0m\u001b[0msummary\u001b[0m\u001b[1;33m(\u001b[0m\u001b[1;33m)\u001b[0m\u001b[1;33m\u001b[0m\u001b[1;33m\u001b[0m\u001b[0m\n",
      "\u001b[1;31mNameError\u001b[0m: name 'sm' is not defined"
     ]
    }
   ],
   "source": [
    "res1 = sm.OLS(train_y_lunch, train_x, missing='drop').fit()\n",
    "res1.summary()"
   ]
  },
  {
   "cell_type": "code",
   "execution_count": 18,
   "metadata": {
    "scrolled": false
   },
   "outputs": [
    {
     "ename": "NameError",
     "evalue": "name 'sm' is not defined",
     "output_type": "error",
     "traceback": [
      "\u001b[1;31m---------------------------------------------------------------------------\u001b[0m",
      "\u001b[1;31mNameError\u001b[0m                                 Traceback (most recent call last)",
      "\u001b[1;32m<ipython-input-18-553fe251bde7>\u001b[0m in \u001b[0;36m<module>\u001b[1;34m\u001b[0m\n\u001b[1;32m----> 1\u001b[1;33m \u001b[0mres2\u001b[0m \u001b[1;33m=\u001b[0m \u001b[0msm\u001b[0m\u001b[1;33m.\u001b[0m\u001b[0mOLS\u001b[0m\u001b[1;33m(\u001b[0m\u001b[0mtrain_y_dinner\u001b[0m\u001b[1;33m,\u001b[0m \u001b[0mtrain_x\u001b[0m\u001b[1;33m,\u001b[0m \u001b[0mmissing\u001b[0m\u001b[1;33m=\u001b[0m\u001b[1;34m'drop'\u001b[0m\u001b[1;33m)\u001b[0m\u001b[1;33m.\u001b[0m\u001b[0mfit\u001b[0m\u001b[1;33m(\u001b[0m\u001b[1;33m)\u001b[0m\u001b[1;33m\u001b[0m\u001b[1;33m\u001b[0m\u001b[0m\n\u001b[0m\u001b[0;32m      2\u001b[0m \u001b[0mres2\u001b[0m\u001b[1;33m.\u001b[0m\u001b[0msummary\u001b[0m\u001b[1;33m(\u001b[0m\u001b[1;33m)\u001b[0m\u001b[1;33m\u001b[0m\u001b[1;33m\u001b[0m\u001b[0m\n",
      "\u001b[1;31mNameError\u001b[0m: name 'sm' is not defined"
     ]
    }
   ],
   "source": [
    "res2 = sm.OLS(train_y_dinner, train_x, missing='drop').fit()\n",
    "res2.summary()"
   ]
  },
  {
   "cell_type": "code",
   "execution_count": 19,
   "metadata": {},
   "outputs": [
    {
     "ename": "NameError",
     "evalue": "name 'res1' is not defined",
     "output_type": "error",
     "traceback": [
      "\u001b[1;31m---------------------------------------------------------------------------\u001b[0m",
      "\u001b[1;31mNameError\u001b[0m                                 Traceback (most recent call last)",
      "\u001b[1;32m<ipython-input-19-b9718083c8a7>\u001b[0m in \u001b[0;36m<module>\u001b[1;34m\u001b[0m\n\u001b[0;32m      1\u001b[0m \u001b[0msub\u001b[0m \u001b[1;33m=\u001b[0m \u001b[0mpd\u001b[0m\u001b[1;33m.\u001b[0m\u001b[0mread_csv\u001b[0m\u001b[1;33m(\u001b[0m\u001b[1;34m'sample_submission.csv'\u001b[0m\u001b[1;33m)\u001b[0m\u001b[1;33m\u001b[0m\u001b[1;33m\u001b[0m\u001b[0m\n\u001b[1;32m----> 2\u001b[1;33m \u001b[0msub\u001b[0m\u001b[1;33m[\u001b[0m\u001b[1;34m'중식계'\u001b[0m\u001b[1;33m]\u001b[0m \u001b[1;33m=\u001b[0m \u001b[1;33m(\u001b[0m\u001b[0mres1\u001b[0m\u001b[1;33m.\u001b[0m\u001b[0mpredict\u001b[0m\u001b[1;33m(\u001b[0m\u001b[0mtest_x\u001b[0m\u001b[1;33m)\u001b[0m \u001b[1;33m*\u001b[0m \u001b[0mwhole_df\u001b[0m\u001b[1;33m[\u001b[0m\u001b[1;34m'본사출근자수'\u001b[0m\u001b[1;33m]\u001b[0m\u001b[1;33m[\u001b[0m\u001b[1;36m1205\u001b[0m\u001b[1;33m:\u001b[0m\u001b[1;33m]\u001b[0m\u001b[1;33m)\u001b[0m\u001b[1;33m.\u001b[0m\u001b[0mvalues\u001b[0m\u001b[1;33m\u001b[0m\u001b[1;33m\u001b[0m\u001b[0m\n\u001b[0m\u001b[0;32m      3\u001b[0m \u001b[0msub\u001b[0m\u001b[1;33m[\u001b[0m\u001b[1;34m'석식계'\u001b[0m\u001b[1;33m]\u001b[0m \u001b[1;33m=\u001b[0m \u001b[1;33m(\u001b[0m\u001b[0mres2\u001b[0m\u001b[1;33m.\u001b[0m\u001b[0mpredict\u001b[0m\u001b[1;33m(\u001b[0m\u001b[0mtest_x\u001b[0m\u001b[1;33m)\u001b[0m \u001b[1;33m*\u001b[0m \u001b[0mwhole_df\u001b[0m\u001b[1;33m[\u001b[0m\u001b[1;34m'본사출근자수'\u001b[0m\u001b[1;33m]\u001b[0m\u001b[1;33m[\u001b[0m\u001b[1;36m1205\u001b[0m\u001b[1;33m:\u001b[0m\u001b[1;33m]\u001b[0m\u001b[1;33m)\u001b[0m\u001b[1;33m.\u001b[0m\u001b[0mvalues\u001b[0m\u001b[1;33m\u001b[0m\u001b[1;33m\u001b[0m\u001b[0m\n\u001b[0;32m      4\u001b[0m \u001b[0msub\u001b[0m\u001b[1;33m.\u001b[0m\u001b[0mto_csv\u001b[0m\u001b[1;33m(\u001b[0m\u001b[1;34m'submission_reg1.csv'\u001b[0m\u001b[1;33m,\u001b[0m \u001b[0mindex\u001b[0m\u001b[1;33m=\u001b[0m\u001b[1;32mFalse\u001b[0m\u001b[1;33m)\u001b[0m\u001b[1;33m\u001b[0m\u001b[1;33m\u001b[0m\u001b[0m\n\u001b[0;32m      5\u001b[0m \u001b[0msub\u001b[0m\u001b[1;33m\u001b[0m\u001b[1;33m\u001b[0m\u001b[0m\n",
      "\u001b[1;31mNameError\u001b[0m: name 'res1' is not defined"
     ]
    }
   ],
   "source": [
    "sub = pd.read_csv('sample_submission.csv')\n",
    "sub['중식계'] = (res1.predict(test_x) * whole_df['본사출근자수'][1205:]).values\n",
    "sub['석식계'] = (res2.predict(test_x) * whole_df['본사출근자수'][1205:]).values\n",
    "sub.to_csv('submission_reg1.csv', index=False)\n",
    "sub"
   ]
  },
  {
   "cell_type": "code",
   "execution_count": 20,
   "metadata": {},
   "outputs": [
    {
     "ename": "NameError",
     "evalue": "name 'plt' is not defined",
     "output_type": "error",
     "traceback": [
      "\u001b[1;31m---------------------------------------------------------------------------\u001b[0m",
      "\u001b[1;31mNameError\u001b[0m                                 Traceback (most recent call last)",
      "\u001b[1;32m<ipython-input-20-103f182b84b0>\u001b[0m in \u001b[0;36m<module>\u001b[1;34m\u001b[0m\n\u001b[1;32m----> 1\u001b[1;33m \u001b[0mplt\u001b[0m\u001b[1;33m.\u001b[0m\u001b[0mplot\u001b[0m\u001b[1;33m(\u001b[0m\u001b[0mtrain_y_lunch\u001b[0m\u001b[1;33m.\u001b[0m\u001b[0mrolling\u001b[0m\u001b[1;33m(\u001b[0m\u001b[1;36m7\u001b[0m\u001b[1;33m)\u001b[0m\u001b[1;33m.\u001b[0m\u001b[0mmean\u001b[0m\u001b[1;33m(\u001b[0m\u001b[1;33m)\u001b[0m\u001b[1;33m)\u001b[0m\u001b[1;33m\u001b[0m\u001b[1;33m\u001b[0m\u001b[0m\n\u001b[0m\u001b[0;32m      2\u001b[0m \u001b[0mplt\u001b[0m\u001b[1;33m.\u001b[0m\u001b[0mplot\u001b[0m\u001b[1;33m(\u001b[0m\u001b[0mres1\u001b[0m\u001b[1;33m.\u001b[0m\u001b[0mpredict\u001b[0m\u001b[1;33m(\u001b[0m\u001b[0mtrain_x\u001b[0m\u001b[1;33m)\u001b[0m\u001b[1;33m.\u001b[0m\u001b[0mrolling\u001b[0m\u001b[1;33m(\u001b[0m\u001b[1;36m7\u001b[0m\u001b[1;33m)\u001b[0m\u001b[1;33m.\u001b[0m\u001b[0mmean\u001b[0m\u001b[1;33m(\u001b[0m\u001b[1;33m)\u001b[0m\u001b[1;33m)\u001b[0m\u001b[1;33m\u001b[0m\u001b[1;33m\u001b[0m\u001b[0m\n\u001b[0;32m      3\u001b[0m \u001b[0mplt\u001b[0m\u001b[1;33m.\u001b[0m\u001b[0mplot\u001b[0m\u001b[1;33m(\u001b[0m\u001b[0mres1\u001b[0m\u001b[1;33m.\u001b[0m\u001b[0mpredict\u001b[0m\u001b[1;33m(\u001b[0m\u001b[0mtest_x\u001b[0m\u001b[1;33m)\u001b[0m\u001b[1;33m.\u001b[0m\u001b[0mrolling\u001b[0m\u001b[1;33m(\u001b[0m\u001b[1;36m7\u001b[0m\u001b[1;33m)\u001b[0m\u001b[1;33m.\u001b[0m\u001b[0mmean\u001b[0m\u001b[1;33m(\u001b[0m\u001b[1;33m)\u001b[0m\u001b[1;33m)\u001b[0m\u001b[1;33m\u001b[0m\u001b[1;33m\u001b[0m\u001b[0m\n\u001b[0;32m      4\u001b[0m \u001b[1;31m#90\u001b[0m\u001b[1;33m\u001b[0m\u001b[1;33m\u001b[0m\u001b[1;33m\u001b[0m\u001b[0m\n",
      "\u001b[1;31mNameError\u001b[0m: name 'plt' is not defined"
     ]
    }
   ],
   "source": [
    "plt.plot(train_y_lunch.rolling(7).mean())\n",
    "plt.plot(res1.predict(train_x).rolling(7).mean())\n",
    "plt.plot(res1.predict(test_x).rolling(7).mean())\n",
    "#90"
   ]
  },
  {
   "cell_type": "code",
   "execution_count": 21,
   "metadata": {},
   "outputs": [
    {
     "ename": "NameError",
     "evalue": "name 'plt' is not defined",
     "output_type": "error",
     "traceback": [
      "\u001b[1;31m---------------------------------------------------------------------------\u001b[0m",
      "\u001b[1;31mNameError\u001b[0m                                 Traceback (most recent call last)",
      "\u001b[1;32m<ipython-input-21-c84c35715a95>\u001b[0m in \u001b[0;36m<module>\u001b[1;34m\u001b[0m\n\u001b[1;32m----> 1\u001b[1;33m \u001b[0mplt\u001b[0m\u001b[1;33m.\u001b[0m\u001b[0mplot\u001b[0m\u001b[1;33m(\u001b[0m\u001b[0mtrain_y_dinner\u001b[0m\u001b[1;33m.\u001b[0m\u001b[0mrolling\u001b[0m\u001b[1;33m(\u001b[0m\u001b[1;36m7\u001b[0m\u001b[1;33m)\u001b[0m\u001b[1;33m.\u001b[0m\u001b[0mmean\u001b[0m\u001b[1;33m(\u001b[0m\u001b[1;33m)\u001b[0m\u001b[1;33m)\u001b[0m\u001b[1;33m\u001b[0m\u001b[1;33m\u001b[0m\u001b[0m\n\u001b[0m\u001b[0;32m      2\u001b[0m \u001b[0mplt\u001b[0m\u001b[1;33m.\u001b[0m\u001b[0mplot\u001b[0m\u001b[1;33m(\u001b[0m\u001b[0mres2\u001b[0m\u001b[1;33m.\u001b[0m\u001b[0mpredict\u001b[0m\u001b[1;33m(\u001b[0m\u001b[0mtrain_x\u001b[0m\u001b[1;33m)\u001b[0m\u001b[1;33m.\u001b[0m\u001b[0mrolling\u001b[0m\u001b[1;33m(\u001b[0m\u001b[1;36m7\u001b[0m\u001b[1;33m)\u001b[0m\u001b[1;33m.\u001b[0m\u001b[0mmean\u001b[0m\u001b[1;33m(\u001b[0m\u001b[1;33m)\u001b[0m\u001b[1;33m)\u001b[0m\u001b[1;33m\u001b[0m\u001b[1;33m\u001b[0m\u001b[0m\n\u001b[0;32m      3\u001b[0m \u001b[0mplt\u001b[0m\u001b[1;33m.\u001b[0m\u001b[0mplot\u001b[0m\u001b[1;33m(\u001b[0m\u001b[0mres2\u001b[0m\u001b[1;33m.\u001b[0m\u001b[0mpredict\u001b[0m\u001b[1;33m(\u001b[0m\u001b[0mtest_x\u001b[0m\u001b[1;33m)\u001b[0m\u001b[1;33m.\u001b[0m\u001b[0mrolling\u001b[0m\u001b[1;33m(\u001b[0m\u001b[1;36m7\u001b[0m\u001b[1;33m)\u001b[0m\u001b[1;33m.\u001b[0m\u001b[0mmean\u001b[0m\u001b[1;33m(\u001b[0m\u001b[1;33m)\u001b[0m\u001b[1;33m)\u001b[0m\u001b[1;33m\u001b[0m\u001b[1;33m\u001b[0m\u001b[0m\n",
      "\u001b[1;31mNameError\u001b[0m: name 'plt' is not defined"
     ]
    }
   ],
   "source": [
    "plt.plot(train_y_dinner.rolling(7).mean())\n",
    "plt.plot(res2.predict(train_x).rolling(7).mean())\n",
    "plt.plot(res2.predict(test_x).rolling(7).mean())"
   ]
  },
  {
   "cell_type": "markdown",
   "metadata": {},
   "source": [
    "# Random Forest"
   ]
  },
  {
   "cell_type": "code",
   "execution_count": 22,
   "metadata": {},
   "outputs": [],
   "source": [
    "model_lunch = RandomForestRegressor(n_jobs=-1, random_state=42)\n",
    "model_dinner = RandomForestRegressor(n_jobs=-1, random_state=42)"
   ]
  },
  {
   "cell_type": "code",
   "execution_count": 23,
   "metadata": {},
   "outputs": [
    {
     "ename": "NameError",
     "evalue": "name 'train_y_lunch' is not defined",
     "output_type": "error",
     "traceback": [
      "\u001b[1;31m---------------------------------------------------------------------------\u001b[0m",
      "\u001b[1;31mNameError\u001b[0m                                 Traceback (most recent call last)",
      "\u001b[1;32m<ipython-input-23-70263cbf7bf2>\u001b[0m in \u001b[0;36m<module>\u001b[1;34m\u001b[0m\n\u001b[1;32m----> 1\u001b[1;33m \u001b[0mmodel_lunch\u001b[0m\u001b[1;33m.\u001b[0m\u001b[0mfit\u001b[0m\u001b[1;33m(\u001b[0m\u001b[0mtrain_x\u001b[0m\u001b[1;33m,\u001b[0m \u001b[0mtrain_y_lunch\u001b[0m\u001b[1;33m)\u001b[0m\u001b[1;33m\u001b[0m\u001b[1;33m\u001b[0m\u001b[0m\n\u001b[0m\u001b[0;32m      2\u001b[0m \u001b[0mmodel_dinner\u001b[0m\u001b[1;33m.\u001b[0m\u001b[0mfit\u001b[0m\u001b[1;33m(\u001b[0m\u001b[0mtrain_x\u001b[0m\u001b[1;33m,\u001b[0m \u001b[0mtrain_y_dinner\u001b[0m\u001b[1;33m)\u001b[0m\u001b[1;33m\u001b[0m\u001b[1;33m\u001b[0m\u001b[0m\n",
      "\u001b[1;31mNameError\u001b[0m: name 'train_y_lunch' is not defined"
     ]
    }
   ],
   "source": [
    "model_lunch.fit(train_x, train_y_lunch)\n",
    "model_dinner.fit(train_x, train_y_dinner)"
   ]
  },
  {
   "cell_type": "code",
   "execution_count": 24,
   "metadata": {},
   "outputs": [
    {
     "ename": "NotFittedError",
     "evalue": "This RandomForestRegressor instance is not fitted yet. Call 'fit' with appropriate arguments before using this estimator.",
     "output_type": "error",
     "traceback": [
      "\u001b[1;31m---------------------------------------------------------------------------\u001b[0m",
      "\u001b[1;31mNotFittedError\u001b[0m                            Traceback (most recent call last)",
      "\u001b[1;32m<ipython-input-24-c73302de5869>\u001b[0m in \u001b[0;36m<module>\u001b[1;34m\u001b[0m\n\u001b[0;32m      1\u001b[0m \u001b[0msub\u001b[0m \u001b[1;33m=\u001b[0m \u001b[0mpd\u001b[0m\u001b[1;33m.\u001b[0m\u001b[0mread_csv\u001b[0m\u001b[1;33m(\u001b[0m\u001b[1;34m'sample_submission.csv'\u001b[0m\u001b[1;33m)\u001b[0m\u001b[1;33m\u001b[0m\u001b[1;33m\u001b[0m\u001b[0m\n\u001b[1;32m----> 2\u001b[1;33m \u001b[0msub\u001b[0m\u001b[1;33m[\u001b[0m\u001b[1;34m'중식계'\u001b[0m\u001b[1;33m]\u001b[0m \u001b[1;33m=\u001b[0m \u001b[1;33m(\u001b[0m\u001b[0mmodel_lunch\u001b[0m\u001b[1;33m.\u001b[0m\u001b[0mpredict\u001b[0m\u001b[1;33m(\u001b[0m\u001b[0mtest_x\u001b[0m\u001b[1;33m)\u001b[0m \u001b[1;33m*\u001b[0m \u001b[0mtest_x\u001b[0m\u001b[1;33m[\u001b[0m\u001b[1;34m'본사출근자수'\u001b[0m\u001b[1;33m]\u001b[0m\u001b[1;33m)\u001b[0m\u001b[1;33m.\u001b[0m\u001b[0mvalues\u001b[0m\u001b[1;33m\u001b[0m\u001b[1;33m\u001b[0m\u001b[0m\n\u001b[0m\u001b[0;32m      3\u001b[0m \u001b[0msub\u001b[0m\u001b[1;33m[\u001b[0m\u001b[1;34m'석식계'\u001b[0m\u001b[1;33m]\u001b[0m \u001b[1;33m=\u001b[0m \u001b[1;33m(\u001b[0m\u001b[0mmodel_dinner\u001b[0m\u001b[1;33m.\u001b[0m\u001b[0mpredict\u001b[0m\u001b[1;33m(\u001b[0m\u001b[0mtest_x\u001b[0m\u001b[1;33m)\u001b[0m \u001b[1;33m*\u001b[0m \u001b[0mtest_x\u001b[0m\u001b[1;33m[\u001b[0m\u001b[1;34m'본사출근자수'\u001b[0m\u001b[1;33m]\u001b[0m\u001b[1;33m)\u001b[0m\u001b[1;33m.\u001b[0m\u001b[0mvalues\u001b[0m\u001b[1;33m\u001b[0m\u001b[1;33m\u001b[0m\u001b[0m\n\u001b[0;32m      4\u001b[0m \u001b[1;31m#sub.to_csv('submission_RForest.csv', index=False)\u001b[0m\u001b[1;33m\u001b[0m\u001b[1;33m\u001b[0m\u001b[1;33m\u001b[0m\u001b[0m\n",
      "\u001b[1;32m~\\anaconda3\\lib\\site-packages\\sklearn\\ensemble\\_forest.py\u001b[0m in \u001b[0;36mpredict\u001b[1;34m(self, X)\u001b[0m\n\u001b[0;32m    779\u001b[0m             \u001b[0mThe\u001b[0m \u001b[0mpredicted\u001b[0m \u001b[0mvalues\u001b[0m\u001b[1;33m.\u001b[0m\u001b[1;33m\u001b[0m\u001b[1;33m\u001b[0m\u001b[0m\n\u001b[0;32m    780\u001b[0m         \"\"\"\n\u001b[1;32m--> 781\u001b[1;33m         \u001b[0mcheck_is_fitted\u001b[0m\u001b[1;33m(\u001b[0m\u001b[0mself\u001b[0m\u001b[1;33m)\u001b[0m\u001b[1;33m\u001b[0m\u001b[1;33m\u001b[0m\u001b[0m\n\u001b[0m\u001b[0;32m    782\u001b[0m         \u001b[1;31m# Check data\u001b[0m\u001b[1;33m\u001b[0m\u001b[1;33m\u001b[0m\u001b[1;33m\u001b[0m\u001b[0m\n\u001b[0;32m    783\u001b[0m         \u001b[0mX\u001b[0m \u001b[1;33m=\u001b[0m \u001b[0mself\u001b[0m\u001b[1;33m.\u001b[0m\u001b[0m_validate_X_predict\u001b[0m\u001b[1;33m(\u001b[0m\u001b[0mX\u001b[0m\u001b[1;33m)\u001b[0m\u001b[1;33m\u001b[0m\u001b[1;33m\u001b[0m\u001b[0m\n",
      "\u001b[1;32m~\\anaconda3\\lib\\site-packages\\sklearn\\utils\\validation.py\u001b[0m in \u001b[0;36minner_f\u001b[1;34m(*args, **kwargs)\u001b[0m\n\u001b[0;32m     70\u001b[0m                           FutureWarning)\n\u001b[0;32m     71\u001b[0m         \u001b[0mkwargs\u001b[0m\u001b[1;33m.\u001b[0m\u001b[0mupdate\u001b[0m\u001b[1;33m(\u001b[0m\u001b[1;33m{\u001b[0m\u001b[0mk\u001b[0m\u001b[1;33m:\u001b[0m \u001b[0marg\u001b[0m \u001b[1;32mfor\u001b[0m \u001b[0mk\u001b[0m\u001b[1;33m,\u001b[0m \u001b[0marg\u001b[0m \u001b[1;32min\u001b[0m \u001b[0mzip\u001b[0m\u001b[1;33m(\u001b[0m\u001b[0msig\u001b[0m\u001b[1;33m.\u001b[0m\u001b[0mparameters\u001b[0m\u001b[1;33m,\u001b[0m \u001b[0margs\u001b[0m\u001b[1;33m)\u001b[0m\u001b[1;33m}\u001b[0m\u001b[1;33m)\u001b[0m\u001b[1;33m\u001b[0m\u001b[1;33m\u001b[0m\u001b[0m\n\u001b[1;32m---> 72\u001b[1;33m         \u001b[1;32mreturn\u001b[0m \u001b[0mf\u001b[0m\u001b[1;33m(\u001b[0m\u001b[1;33m**\u001b[0m\u001b[0mkwargs\u001b[0m\u001b[1;33m)\u001b[0m\u001b[1;33m\u001b[0m\u001b[1;33m\u001b[0m\u001b[0m\n\u001b[0m\u001b[0;32m     73\u001b[0m     \u001b[1;32mreturn\u001b[0m \u001b[0minner_f\u001b[0m\u001b[1;33m\u001b[0m\u001b[1;33m\u001b[0m\u001b[0m\n\u001b[0;32m     74\u001b[0m \u001b[1;33m\u001b[0m\u001b[0m\n",
      "\u001b[1;32m~\\anaconda3\\lib\\site-packages\\sklearn\\utils\\validation.py\u001b[0m in \u001b[0;36mcheck_is_fitted\u001b[1;34m(estimator, attributes, msg, all_or_any)\u001b[0m\n\u001b[0;32m   1017\u001b[0m \u001b[1;33m\u001b[0m\u001b[0m\n\u001b[0;32m   1018\u001b[0m     \u001b[1;32mif\u001b[0m \u001b[1;32mnot\u001b[0m \u001b[0mattrs\u001b[0m\u001b[1;33m:\u001b[0m\u001b[1;33m\u001b[0m\u001b[1;33m\u001b[0m\u001b[0m\n\u001b[1;32m-> 1019\u001b[1;33m         \u001b[1;32mraise\u001b[0m \u001b[0mNotFittedError\u001b[0m\u001b[1;33m(\u001b[0m\u001b[0mmsg\u001b[0m \u001b[1;33m%\u001b[0m \u001b[1;33m{\u001b[0m\u001b[1;34m'name'\u001b[0m\u001b[1;33m:\u001b[0m \u001b[0mtype\u001b[0m\u001b[1;33m(\u001b[0m\u001b[0mestimator\u001b[0m\u001b[1;33m)\u001b[0m\u001b[1;33m.\u001b[0m\u001b[0m__name__\u001b[0m\u001b[1;33m}\u001b[0m\u001b[1;33m)\u001b[0m\u001b[1;33m\u001b[0m\u001b[1;33m\u001b[0m\u001b[0m\n\u001b[0m\u001b[0;32m   1020\u001b[0m \u001b[1;33m\u001b[0m\u001b[0m\n\u001b[0;32m   1021\u001b[0m \u001b[1;33m\u001b[0m\u001b[0m\n",
      "\u001b[1;31mNotFittedError\u001b[0m: This RandomForestRegressor instance is not fitted yet. Call 'fit' with appropriate arguments before using this estimator."
     ]
    }
   ],
   "source": [
    "sub = pd.read_csv('sample_submission.csv')\n",
    "sub['중식계'] = (model_lunch.predict(test_x) * test_x['본사출근자수']).values\n",
    "sub['석식계'] = (model_dinner.predict(test_x) * test_x['본사출근자수']).values\n",
    "#sub.to_csv('submission_RForest.csv', index=False)"
   ]
  },
  {
   "cell_type": "code",
   "execution_count": 63,
   "metadata": {},
   "outputs": [
    {
     "data": {
      "text/plain": [
       "[<matplotlib.lines.Line2D at 0x282ff9e7b88>]"
      ]
     },
     "execution_count": 63,
     "metadata": {},
     "output_type": "execute_result"
    },
    {
     "data": {
      "image/png": "[encoded data removed]",
      "text/plain": [
       "<Figure size 432x288 with 1 Axes>"
      ]
     },
     "metadata": {
      "needs_background": "light"
     },
     "output_type": "display_data"
    }
   ],
   "source": [
    "plt.plot(train_y_lunch.rolling(7).mean())\n",
    "plt.plot(pd.Series(model_lunch.predict(train_x), index=train_y_lunch.index).rolling(7).mean())\n",
    "plt.plot(pd.Series(model_lunch.predict(test_x), index=test_x.index).rolling(7).mean())\n",
    "#82"
   ]
  },
  {
   "cell_type": "code",
   "execution_count": 64,
   "metadata": {},
   "outputs": [
    {
     "data": {
      "text/plain": [
       "[<matplotlib.lines.Line2D at 0x282ff72cc08>]"
      ]
     },
     "execution_count": 64,
     "metadata": {},
     "output_type": "execute_result"
    },
    {
     "data": {
      "image/png": "[encoded data removed]",
      "text/plain": [
       "<Figure size 432x288 with 1 Axes>"
      ]
     },
     "metadata": {
      "needs_background": "light"
     },
     "output_type": "display_data"
    }
   ],
   "source": [
    "plt.plot(train_y_dinner.rolling(7).mean())\n",
    "plt.plot(pd.Series(model_dinner.predict(train_x), index=train_y_lunch.index).rolling(7).mean())\n",
    "plt.plot(pd.Series(model_dinner.predict(test_x), index=test_x.index).rolling(7).mean())"
   ]
  },
  {
   "cell_type": "code",
   "execution_count": 37,
   "metadata": {},
   "outputs": [],
   "source": [
    "x = train_x.iloc[:-100,:].values\n",
    "y_lunch = train_y_lunch[:-100].values\n",
    "y_dinner = train_y_dinner[:-100].values\n",
    "\n",
    "x_val = train_x.iloc[-100:, :].values\n",
    "y_lunch_val = train_y_lunch[-100:].values\n",
    "y_dinner_val = train_y_dinner[-100:].values\n"
   ]
  },
  {
   "cell_type": "code",
   "execution_count": 40,
   "metadata": {},
   "outputs": [],
   "source": [
    "from keras import layers, models\n",
    "\n",
    "\n",
    "lunch = models.Sequential()\n",
    "lunch.add(layers.Dense(16, activation='relu', input_shape=(44,)))\n",
    "lunch.add(layers.Dense(4, activation='relu'))\n",
    "lunch.add(layers.Dense(1))\n",
    "\n",
    "lunch.compile(optimizer='adam',\n",
    "              loss = 'mse',\n",
    "              metrics = ['mae'])\n",
    "\n",
    "history = lunch.fit(train_x.values[:, 1:], train_y_lunch.values,\n",
    "                    epochs = 30, batch_size=128,\n",
    "                    verbose=0)"
   ]
  },
  {
   "cell_type": "code",
   "execution_count": 41,
   "metadata": {},
   "outputs": [
    {
     "data": {
      "image/png": "[encoded data removed]",
      "text/plain": [
       "<Figure size 432x288 with 1 Axes>"
      ]
     },
     "metadata": {
      "needs_background": "light"
     },
     "output_type": "display_data"
    }
   ],
   "source": [
    "plt.plot(history.history['loss']);\n",
    "#plt.plot(history.history['val_loss']);"
   ]
  },
  {
   "cell_type": "code",
   "execution_count": 42,
   "metadata": {},
   "outputs": [],
   "source": [
    "dinner = models.Sequential()\n",
    "dinner.add(layers.Dense(16, activation='relu', input_shape=(44,)))\n",
    "dinner.add(layers.Dense(4, activation='relu'))\n",
    "dinner.add(layers.Dense(1))\n",
    "\n",
    "dinner.compile(optimizer='adam',\n",
    "              loss = 'mse',\n",
    "              metrics = ['mae'])\n",
    "\n",
    "history = dinner.fit(train_x.values[:, 1:], train_y_dinner.values,\n",
    "                    epochs = 30, batch_size=128,\n",
    "                    verbose=0)"
   ]
  },
  {
   "cell_type": "code",
   "execution_count": 43,
   "metadata": {},
   "outputs": [
    {
     "data": {
      "image/png": "[encoded data removed]",
      "text/plain": [
       "<Figure size 432x288 with 1 Axes>"
      ]
     },
     "metadata": {
      "needs_background": "light"
     },
     "output_type": "display_data"
    }
   ],
   "source": [
    "plt.plot(history.history['loss']);\n",
    "#plt.plot(history.history['val_loss']);"
   ]
  },
  {
   "cell_type": "code",
   "execution_count": 62,
   "metadata": {},
   "outputs": [],
   "source": [
    "#deep learning + randomforest + regression\n",
    "ensemble1 = 0.2 * res1.predict(test_x).values + 0.4 * model_lunch.predict(test_x).flatten() + 0.4 * lunch.predict(test_x.iloc[:,1:]).flatten()\n",
    "ensemble2 = 0.2 * res2.predict(test_x).values + 0.4 * model_dinner.predict(test_x).flatten() + 0.4 * dinner.predict(test_x.iloc[:,1:]).flatten()\n",
    "\n",
    "sub = pd.read_csv('sample_submission.csv')\n",
    "sub['중식계'] = (ensemble1 * whole_df['본사출근자수'].values[len(train_data):]).round()\n",
    "sub['석식계'] = (ensemble2 * whole_df['본사출근자수'].values[len(train_data):]).round()\n",
    "sub.to_csv('submission_fc+lr+RF.csv', index=False)"
   ]
  },
  {
   "cell_type": "code",
   "execution_count": 68,
   "metadata": {
    "scrolled": true
   },
   "outputs": [
    {
     "data": {
      "text/plain": [
       "[<matplotlib.lines.Line2D at 0x282ffea7248>]"
      ]
     },
     "execution_count": 68,
     "metadata": {},
     "output_type": "execute_result"
    },
    {
     "data": {
      "image/png": "[encoded data removed]",
      "text/plain": [
       "<Figure size 432x288 with 1 Axes>"
      ]
     },
     "metadata": {
      "needs_background": "light"
     },
     "output_type": "display_data"
    }
   ],
   "source": [
    "plt.plot(train_y_lunch.rolling(7).mean())\n",
    "plt.plot(pd.Series(lunch.predict(train_x.iloc[:,1:]).flatten(), index=train_y_lunch.index).rolling(7).mean())\n",
    "plt.plot(pd.Series(lunch.predict(test_x.iloc[:,1:]).flatten(), index=test_x.index).rolling(7).mean())\n",
    "#100"
   ]
  },
  {
   "cell_type": "markdown",
   "metadata": {},
   "source": [
    "# LSTM\n",
    "\n",
    "- test data가 1월 27일부터이니 1월 20일~4/9까지로 test dataset 재구성하기\n",
    "\n",
    "- train_data를 2016/2/5부터 2021/1/20까지로 재구성하기"
   ]
  },
  {
   "cell_type": "code",
   "execution_count": 16,
   "metadata": {},
   "outputs": [],
   "source": [
    "def Convert(df, lag):\n",
    "    result = pd.DataFrame(columns=df.columns)\n",
    "    for i in range(len(df)-lag+1):\n",
    "        result = result.append(df.iloc[i:i+lag,:])\n",
    "    return result.values.reshape(-1,lag, len(df.columns))"
   ]
  },
  {
   "cell_type": "code",
   "execution_count": 25,
   "metadata": {},
   "outputs": [],
   "source": [
    "test_x = pd.concat([train_x.iloc[-6:,:], test_x])"
   ]
  },
  {
   "cell_type": "code",
   "execution_count": 26,
   "metadata": {},
   "outputs": [],
   "source": [
    "train_x_lstm = Convert(train_x, 7).astype(np.float32)\n",
    "test_x_lstm = Convert(test_x, 7).astype(np.float32)\n",
    "#lstm_x_val = train_x_lstm[-100:]\n",
    "#train_x_lstm = train_x_lstm[:-100]\n",
    "\n",
    "train_y_lstm_lunch = train_y_lunch[6:]\n",
    "#lstm_y_lunch_val = train_y_lstm_lunch[-100:]\n",
    "#train_y_lstm_lunch = train_y_lstm_lunch[:-100]\n",
    "\n",
    "train_y_lstm_dinner = train_y_dinner[6:]\n",
    "#lstm_y_dinner_val = train_y_lstm_dinner[-100:]\n",
    "#train_y_lstm_dinner = train_y_lstm_dinner[:-100]"
   ]
  },
  {
   "cell_type": "code",
   "execution_count": 28,
   "metadata": {},
   "outputs": [
    {
     "data": {
      "text/plain": [
       "(50, 7, 45)"
      ]
     },
     "execution_count": 28,
     "metadata": {},
     "output_type": "execute_result"
    }
   ],
   "source": [
    "test_x_lstm.shape"
   ]
  },
  {
   "cell_type": "code",
   "execution_count": 41,
   "metadata": {},
   "outputs": [
    {
     "name": "stdout",
     "output_type": "stream",
     "text": [
      "Model: \"LSTM\"\n",
      "_________________________________________________________________\n",
      "Layer (type)                 Output Shape              Param #   \n",
      "=================================================================\n",
      "lstm_2 (LSTM)                (None, 16)                3904      \n",
      "_________________________________________________________________\n",
      "dense_4 (Dense)              (None, 4)                 68        \n",
      "_________________________________________________________________\n",
      "dense_5 (Dense)              (None, 1)                 5         \n",
      "=================================================================\n",
      "Total params: 3,977\n",
      "Trainable params: 3,977\n",
      "Non-trainable params: 0\n",
      "_________________________________________________________________\n"
     ]
    }
   ],
   "source": [
    "from keras import layers, models\n",
    "from scipy.linalg import toeplitz\n",
    "\n",
    "\n",
    "lstm_lunch = models.Sequential(name=\"LSTM\")\n",
    "lstm_lunch.add(layers.LSTM(16, input_shape=(7, 44)))\n",
    "lstm_lunch.add(layers.Dense(4, activation='relu'))\n",
    "lstm_lunch.add(layers.Dense(1))\n",
    "lstm_lunch.summary()"
   ]
  },
  {
   "cell_type": "code",
   "execution_count": 42,
   "metadata": {},
   "outputs": [],
   "source": [
    "lstm_lunch.compile(optimizer='adam',\n",
    "              loss = 'mse',\n",
    "              metrics = ['mae'])\n",
    "\n",
    "history = lstm_lunch.fit(train_x_lstm[:,:,1:], train_y_lstm_lunch.values,\n",
    "                    epochs = 50, batch_size=128,\n",
    "                    #validation_data=(lstm_x_val[:,:,1:].astype(np.float32), lstm_y_lunch_val.values),\n",
    "                    verbose=0)"
   ]
  },
  {
   "cell_type": "code",
   "execution_count": 43,
   "metadata": {},
   "outputs": [
    {
     "data": {
      "image/png": "[encoded data removed]",
      "text/plain": [
       "<Figure size 432x288 with 1 Axes>"
      ]
     },
     "metadata": {
      "needs_background": "light"
     },
     "output_type": "display_data"
    }
   ],
   "source": [
    "plt.plot(history.history['loss']);\n",
    "#plt.plot(history.history['val_loss']);"
   ]
  },
  {
   "cell_type": "code",
   "execution_count": 53,
   "metadata": {},
   "outputs": [
    {
     "data": {
      "text/plain": [
       "[<matplotlib.lines.Line2D at 0x278fb32ab88>]"
      ]
     },
     "execution_count": 53,
     "metadata": {},
     "output_type": "execute_result"
    },
    {
     "data": {
      "image/png": "[encoded data removed]",
      "text/plain": [
       "<Figure size 432x288 with 1 Axes>"
      ]
     },
     "metadata": {
      "needs_background": "light"
     },
     "output_type": "display_data"
    }
   ],
   "source": [
    "plt.plot(train_y_lunch.rolling(7).mean())\n",
    "plt.plot(pd.Series(lstm_lunch.predict(train_x_lstm[:,:,1:].astype(float)).flatten(), index=train_y_lstm_lunch.index).rolling(7).mean())\n",
    "plt.plot(pd.Series(lstm_lunch.predict(test_x_lstm[:,:,1:].astype(float)).flatten(), index=test_x.index[6:]).rolling(7).mean())"
   ]
  },
  {
   "cell_type": "code",
   "execution_count": 61,
   "metadata": {},
   "outputs": [
    {
     "name": "stdout",
     "output_type": "stream",
     "text": [
      "Model: \"LSTM\"\n",
      "_________________________________________________________________\n",
      "Layer (type)                 Output Shape              Param #   \n",
      "=================================================================\n",
      "lstm_3 (LSTM)                (None, 16)                3904      \n",
      "_________________________________________________________________\n",
      "dense_6 (Dense)              (None, 4)                 68        \n",
      "_________________________________________________________________\n",
      "dense_7 (Dense)              (None, 1)                 5         \n",
      "=================================================================\n",
      "Total params: 3,977\n",
      "Trainable params: 3,977\n",
      "Non-trainable params: 0\n",
      "_________________________________________________________________\n"
     ]
    }
   ],
   "source": [
    "lstm_dinner = models.Sequential(name=\"LSTM\")\n",
    "lstm_dinner.add(layers.LSTM(16, input_shape=(7, 44)))\n",
    "lstm_dinner.add(layers.Dense(4, activation='relu'))\n",
    "lstm_dinner.add(layers.Dense(1))\n",
    "lstm_dinner.summary()"
   ]
  },
  {
   "cell_type": "code",
   "execution_count": 62,
   "metadata": {},
   "outputs": [],
   "source": [
    "lstm_dinner.compile(optimizer='adam',\n",
    "              loss = 'mse',\n",
    "              metrics = ['mae'])\n",
    "\n",
    "history = lstm_dinner.fit(train_x_lstm[:,:,1:], train_y_lstm_dinner.values,\n",
    "                    epochs = 50, batch_size=128,\n",
    "                    #validation_data=(lstm_x_val[:,:,1:].astype(np.float32), lstm_y_lunch_val.values),\n",
    "                    verbose=0)"
   ]
  },
  {
   "cell_type": "code",
   "execution_count": 63,
   "metadata": {},
   "outputs": [
    {
     "data": {
      "text/plain": [
       "[<matplotlib.lines.Line2D at 0x278f2413dc8>]"
      ]
     },
     "execution_count": 63,
     "metadata": {},
     "output_type": "execute_result"
    },
    {
     "data": {
      "image/png": "[encoded data removed]",
      "text/plain": [
       "<Figure size 432x288 with 1 Axes>"
      ]
     },
     "metadata": {
      "needs_background": "light"
     },
     "output_type": "display_data"
    }
   ],
   "source": [
    "plt.plot(train_y_dinner.rolling(7).mean())\n",
    "plt.plot(pd.Series(lstm_dinner.predict(train_x_lstm[:,:,1:].astype(float)).flatten(), index=train_y_lstm_dinner.index).rolling(7).mean())\n",
    "plt.plot(pd.Series(lstm_dinner.predict(test_x_lstm[:,:,1:].astype(float)).flatten(), index=test_x.index[6:]).rolling(7).mean())"
   ]
  },
  {
   "cell_type": "code",
   "execution_count": 65,
   "metadata": {},
   "outputs": [],
   "source": [
    "sub = pd.read_csv('sample_submission.csv')\n",
    "sub['중식계'] = (lstm_lunch.predict(test_x_lstm[:,:,1:].astype(float)).flatten() * whole_df['본사출근자수'][-50:].values).round()\n",
    "sub['석식계'] = (lstm_dinner.predict(test_x_lstm[:,:,1:].astype(float)).flatten() * whole_df['본사출근자수'][-50:].values).round()\n",
    "sub.to_csv('submission_LSTM.csv', index=False)\n"
   ]
  },
  {
   "cell_type": "code",
   "execution_count": null,
   "metadata": {},
   "outputs": [],
   "source": []
  }
 ],
 "metadata": {
  "kernelspec": {
   "display_name": "Python 3",
   "language": "python",
   "name": "python3"
  },
  "language_info": {
   "codemirror_mode": {
    "name": "ipython",
    "version": 3
   },
   "file_extension": ".py",
   "mimetype": "text/x-python",
   "name": "python",
   "nbconvert_exporter": "python",
   "pygments_lexer": "ipython3",
   "version": "3.8.5"
  }
 },
 "nbformat": 4,
 "nbformat_minor": 4
}
